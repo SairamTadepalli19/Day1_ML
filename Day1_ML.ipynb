{
  "nbformat": 4,
  "nbformat_minor": 0,
  "metadata": {
    "colab": {
      "name": "Day1_ML.ipynb",
      "provenance": [],
      "collapsed_sections": [],
      "include_colab_link": true
    },
    "kernelspec": {
      "name": "python3",
      "display_name": "Python 3"
    },
    "language_info": {
      "name": "python"
    }
  },
  "cells": [
    {
      "cell_type": "markdown",
      "metadata": {
        "id": "view-in-github",
        "colab_type": "text"
      },
      "source": [
        "<a href=\"https://colab.research.google.com/github/SairamTadepalli19/Day1_ML/blob/main/Day1_ML.ipynb\" target=\"_parent\"><img src=\"https://colab.research.google.com/assets/colab-badge.svg\" alt=\"Open In Colab\"/></a>"
      ]
    },
    {
      "cell_type": "markdown",
      "metadata": {
        "id": "9Xt8Zd0mKGx-"
      },
      "source": [
        " # **Numpy**"
      ]
    },
    {
      "cell_type": "code",
      "metadata": {
        "colab": {
          "base_uri": "https://localhost:8080/"
        },
        "id": "90HbTDe5Jw39",
        "outputId": "020fa681-5f47-4891-8943-a8727f0b209d"
      },
      "source": [
        "# Is for mathematical operations\n",
        "\n",
        "import numpy as np\n",
        "\n",
        "a = [1,2,3,4,5]\n",
        "\n",
        "arr1 = np.array(a)\n",
        "\n",
        "b = [[1,2,3,4], [5,6,7,8]]\n",
        "\n",
        "arr2 = np.array(b)\n",
        "\n",
        "print(arr1)\n",
        "print(arr2)\n",
        "\n"
      ],
      "execution_count": null,
      "outputs": [
        {
          "output_type": "stream",
          "text": [
            "[1 2 3 4 5]\n",
            "[[1 2 3 4]\n",
            " [5 6 7 8]]\n"
          ],
          "name": "stdout"
        }
      ]
    },
    {
      "cell_type": "code",
      "metadata": {
        "colab": {
          "base_uri": "https://localhost:8080/"
        },
        "id": "6ubntjE3NjCR",
        "outputId": "78cfd200-9367-424f-8133-e3c5d23fa8be"
      },
      "source": [
        "print(type(a),\n",
        "type(arr1),\n",
        "type(b),\n",
        "type(arr2),)"
      ],
      "execution_count": null,
      "outputs": [
        {
          "output_type": "stream",
          "text": [
            "<class 'list'> <class 'numpy.ndarray'> <class 'list'> <class 'numpy.ndarray'>\n"
          ],
          "name": "stdout"
        }
      ]
    },
    {
      "cell_type": "code",
      "metadata": {
        "colab": {
          "base_uri": "https://localhost:8080/"
        },
        "id": "lefvhtACN4Ef",
        "outputId": "16649eff-8426-46de-c374-b41fca56c58a"
      },
      "source": [
        "import sys\n",
        "\n",
        "s = range(1000)\n",
        "\n",
        "print(\"Size of each elements in the list in bytes\", sys.getsizeof(s))\n",
        "\n",
        "print(\"Complete list size in bytes\", sys.getsizeof(s) * len(s))"
      ],
      "execution_count": null,
      "outputs": [
        {
          "output_type": "stream",
          "text": [
            "Size of each elements in the list in bytes 48\n",
            "Complete list size in bytes 48000\n"
          ],
          "name": "stdout"
        }
      ]
    },
    {
      "cell_type": "code",
      "metadata": {
        "colab": {
          "base_uri": "https://localhost:8080/"
        },
        "id": "hARA-X2qOS8J",
        "outputId": "82badad7-a9f1-48c0-fb90-48222ae62542"
      },
      "source": [
        "#We are checking comparison between numpy size and nomral size of \"sys\" package\n",
        "\n",
        "import numpy as np\n",
        "\n",
        "s = np.arange(1000)\n",
        "\n",
        "print(\"Size of each elements in the list by bytes\", s.itemsize)\n",
        "\n",
        "print(\"Complete list size in bytes\", s.size * s.itemsize)\n"
      ],
      "execution_count": null,
      "outputs": [
        {
          "output_type": "stream",
          "text": [
            "Size of each elements in the list by bytes 8\n",
            "Complete list size in bytes 8000\n"
          ],
          "name": "stdout"
        }
      ]
    },
    {
      "cell_type": "code",
      "metadata": {
        "colab": {
          "base_uri": "https://localhost:8080/"
        },
        "id": "3Wrp7OKWPbdb",
        "outputId": "851b2afc-a85c-4486-cb97-22f22adcc375"
      },
      "source": [
        "#Import time library and make execution time taking by the system\n",
        "\n",
        "import time\n",
        "\n",
        "a = range(1000) # [0 ... 999]\n",
        "b = range(1000) # [0 ... 999]\n",
        "\n",
        "start = time.time()\n",
        "\n",
        "ab = [(a * b) for a,b in zip(a,b)] #List Comprehension\n",
        "\n",
        "# Creating a concised form of complete list and for loop or any other conditional statements\n",
        "\n",
        "end = time.time()\n",
        "\n",
        "print(\"Total time taken\", end - start)\n",
        "\n"
      ],
      "execution_count": null,
      "outputs": [
        {
          "output_type": "stream",
          "text": [
            "Total time taken 0.00019979476928710938\n"
          ],
          "name": "stdout"
        }
      ]
    },
    {
      "cell_type": "code",
      "metadata": {
        "colab": {
          "base_uri": "https://localhost:8080/"
        },
        "id": "mT_pMnDTQztJ",
        "outputId": "101427e9-c3d8-4ad2-acc4-c5367dd06c0b"
      },
      "source": [
        "import numpy\n",
        "import time\n",
        "arr1 = np.arange(1000)\n",
        "arr2 = np.arange(1000)\n",
        "\n",
        "start = time.time()\n",
        "\n",
        "arr_mul = arr1 * arr2\n",
        "\n",
        "end = time.time()\n",
        "\n",
        "print(\"Total time taken\", end - start)"
      ],
      "execution_count": null,
      "outputs": [
        {
          "output_type": "stream",
          "text": [
            "Total time taken 0.0007355213165283203\n"
          ],
          "name": "stdout"
        }
      ]
    },
    {
      "cell_type": "code",
      "metadata": {
        "colab": {
          "base_uri": "https://localhost:8080/"
        },
        "id": "kp6ghVNLSE8k",
        "outputId": "cc3816b4-fcf2-42b5-c7b6-e04c57fe6f06"
      },
      "source": [
        "lst1 = [1,2,3,4]\n",
        "\n",
        "arr = np.array(lst1)\n",
        "\n",
        "print(arr)"
      ],
      "execution_count": null,
      "outputs": [
        {
          "output_type": "stream",
          "text": [
            "[1 2 3 4]\n"
          ],
          "name": "stdout"
        }
      ]
    },
    {
      "cell_type": "code",
      "metadata": {
        "colab": {
          "base_uri": "https://localhost:8080/",
          "height": 162
        },
        "id": "RvsndQS8SXsI",
        "outputId": "cbddab3d-c411-46c2-dab3-4b77342123bc"
      },
      "source": [
        "print(lst1 + 1)"
      ],
      "execution_count": null,
      "outputs": [
        {
          "output_type": "error",
          "ename": "TypeError",
          "evalue": "ignored",
          "traceback": [
            "\u001b[0;31m---------------------------------------------------------------------------\u001b[0m",
            "\u001b[0;31mTypeError\u001b[0m                                 Traceback (most recent call last)",
            "\u001b[0;32m<ipython-input-10-c98f5e3d7b11>\u001b[0m in \u001b[0;36m<module>\u001b[0;34m()\u001b[0m\n\u001b[0;32m----> 1\u001b[0;31m \u001b[0mprint\u001b[0m\u001b[0;34m(\u001b[0m\u001b[0mlst1\u001b[0m \u001b[0;34m+\u001b[0m \u001b[0;36m1\u001b[0m\u001b[0;34m)\u001b[0m\u001b[0;34m\u001b[0m\u001b[0;34m\u001b[0m\u001b[0m\n\u001b[0m",
            "\u001b[0;31mTypeError\u001b[0m: can only concatenate list (not \"int\") to list"
          ]
        }
      ]
    },
    {
      "cell_type": "code",
      "metadata": {
        "colab": {
          "base_uri": "https://localhost:8080/"
        },
        "id": "NcA-JRNySezO",
        "outputId": "05d4443f-ecf8-4e7e-807f-39a48aeaf2ea"
      },
      "source": [
        "print(arr + 1)"
      ],
      "execution_count": null,
      "outputs": [
        {
          "output_type": "stream",
          "text": [
            "[2 3 4 5]\n"
          ],
          "name": "stdout"
        }
      ]
    },
    {
      "cell_type": "code",
      "metadata": {
        "id": "1xJqvNhZSkX8",
        "colab": {
          "base_uri": "https://localhost:8080/"
        },
        "outputId": "83dbec0c-c322-40d6-8289-e270f13e05bd"
      },
      "source": [
        "import numpy as np\n",
        "arr1 = np.array([1,2,3])\n",
        "\n",
        "print(arr1)"
      ],
      "execution_count": 1,
      "outputs": [
        {
          "output_type": "stream",
          "text": [
            "[1 2 3]\n"
          ],
          "name": "stdout"
        }
      ]
    },
    {
      "cell_type": "code",
      "metadata": {
        "colab": {
          "base_uri": "https://localhost:8080/"
        },
        "id": "sTXbjuOTEaUT",
        "outputId": "a3ea5b47-0611-4c53-b4f5-2cba1512b7cd"
      },
      "source": [
        "type(arr1)"
      ],
      "execution_count": 2,
      "outputs": [
        {
          "output_type": "execute_result",
          "data": {
            "text/plain": [
              "numpy.ndarray"
            ]
          },
          "metadata": {
            "tags": []
          },
          "execution_count": 2
        }
      ]
    },
    {
      "cell_type": "code",
      "metadata": {
        "colab": {
          "base_uri": "https://localhost:8080/"
        },
        "id": "jIojiUL4EmNS",
        "outputId": "f67f3d85-8639-40eb-a053-1662ad09f919"
      },
      "source": [
        "arr2 = np.zeros((2,2))\n",
        "\n",
        "print(arr2)"
      ],
      "execution_count": 3,
      "outputs": [
        {
          "output_type": "stream",
          "text": [
            "[[0. 0.]\n",
            " [0. 0.]]\n"
          ],
          "name": "stdout"
        }
      ]
    },
    {
      "cell_type": "code",
      "metadata": {
        "colab": {
          "base_uri": "https://localhost:8080/"
        },
        "id": "1G4o7lqSExmJ",
        "outputId": "eb1c2e23-fd69-4011-ac03-dd1181b8079d"
      },
      "source": [
        "lst1 = [1,2,3,4.52, True, False, 2+3j, \"Codegnan\"]\n",
        "\n",
        "print(lst1)"
      ],
      "execution_count": 4,
      "outputs": [
        {
          "output_type": "stream",
          "text": [
            "[1, 2, 3, 4.52, True, False, (2+3j), 'Codegnan']\n"
          ],
          "name": "stdout"
        }
      ]
    },
    {
      "cell_type": "code",
      "metadata": {
        "colab": {
          "base_uri": "https://localhost:8080/"
        },
        "id": "amQbx-pmFLeG",
        "outputId": "629aa396-7848-4d0d-85f0-8631c448ad26"
      },
      "source": [
        "type(lst1)"
      ],
      "execution_count": 5,
      "outputs": [
        {
          "output_type": "execute_result",
          "data": {
            "text/plain": [
              "list"
            ]
          },
          "metadata": {
            "tags": []
          },
          "execution_count": 5
        }
      ]
    },
    {
      "cell_type": "code",
      "metadata": {
        "id": "VgT5HaSOFNKl"
      },
      "source": [
        "#4 Different types of data structures in python\n",
        "\n",
        "# list - []\n",
        "\n",
        "# Tuple - ()\n",
        "\n",
        "# Dictionary - {Key : Value}\n",
        "\n",
        "# Set - {Numerical values and unique variables}"
      ],
      "execution_count": 6,
      "outputs": []
    },
    {
      "cell_type": "code",
      "metadata": {
        "colab": {
          "base_uri": "https://localhost:8080/"
        },
        "id": "dhZgsnr6F4g5",
        "outputId": "2519c037-064b-4d24-9985-1f23e9251407"
      },
      "source": [
        "# Creating an n-dimensional array\n",
        "\n",
        "a = [[1,2,3], [4,5,6]]\n",
        "\n",
        "print(a)"
      ],
      "execution_count": 7,
      "outputs": [
        {
          "output_type": "stream",
          "text": [
            "[[1, 2, 3], [4, 5, 6]]\n"
          ],
          "name": "stdout"
        }
      ]
    },
    {
      "cell_type": "code",
      "metadata": {
        "colab": {
          "base_uri": "https://localhost:8080/"
        },
        "id": "AG8ecbVhGF8_",
        "outputId": "23a99b79-d447-4a97-f7ff-2a15a38ababa"
      },
      "source": [
        "import numpy as np\n",
        "\n",
        "np.array(a, ndmin = 10)"
      ],
      "execution_count": 8,
      "outputs": [
        {
          "output_type": "execute_result",
          "data": {
            "text/plain": [
              "array([[[[[[[[[[1, 2, 3],\n",
              "               [4, 5, 6]]]]]]]]]])"
            ]
          },
          "metadata": {
            "tags": []
          },
          "execution_count": 8
        }
      ]
    },
    {
      "cell_type": "code",
      "metadata": {
        "colab": {
          "base_uri": "https://localhost:8080/"
        },
        "id": "hJJHzgylGVzx",
        "outputId": "3da0b504-42ae-4005-d2b3-5ebafdd22386"
      },
      "source": [
        "arr = np.array([[1,2,3],\n",
        "                [4,5,6],\n",
        "                [7,8,9]])\n",
        "\n",
        "print(arr)"
      ],
      "execution_count": 9,
      "outputs": [
        {
          "output_type": "stream",
          "text": [
            "[[1 2 3]\n",
            " [4 5 6]\n",
            " [7 8 9]]\n"
          ],
          "name": "stdout"
        }
      ]
    },
    {
      "cell_type": "code",
      "metadata": {
        "colab": {
          "base_uri": "https://localhost:8080/"
        },
        "id": "ZT9JleABG0JC",
        "outputId": "b1640115-2965-4b15-f428-3675affe52ca"
      },
      "source": [
        "arr [2,0]"
      ],
      "execution_count": 10,
      "outputs": [
        {
          "output_type": "execute_result",
          "data": {
            "text/plain": [
              "7"
            ]
          },
          "metadata": {
            "tags": []
          },
          "execution_count": 10
        }
      ]
    },
    {
      "cell_type": "code",
      "metadata": {
        "colab": {
          "base_uri": "https://localhost:8080/",
          "height": 162
        },
        "id": "HPBSb1s4HFBy",
        "outputId": "ba02756e-f3ef-4850-92c3-e405faa9130f"
      },
      "source": [
        "arr[3,0]"
      ],
      "execution_count": 11,
      "outputs": [
        {
          "output_type": "error",
          "ename": "IndexError",
          "evalue": "ignored",
          "traceback": [
            "\u001b[0;31m---------------------------------------------------------------------------\u001b[0m",
            "\u001b[0;31mIndexError\u001b[0m                                Traceback (most recent call last)",
            "\u001b[0;32m<ipython-input-11-c69fc7229c50>\u001b[0m in \u001b[0;36m<module>\u001b[0;34m()\u001b[0m\n\u001b[0;32m----> 1\u001b[0;31m \u001b[0marr\u001b[0m\u001b[0;34m[\u001b[0m\u001b[0;36m3\u001b[0m\u001b[0;34m,\u001b[0m\u001b[0;36m0\u001b[0m\u001b[0;34m]\u001b[0m\u001b[0;34m\u001b[0m\u001b[0;34m\u001b[0m\u001b[0m\n\u001b[0m",
            "\u001b[0;31mIndexError\u001b[0m: index 3 is out of bounds for axis 0 with size 3"
          ]
        }
      ]
    },
    {
      "cell_type": "code",
      "metadata": {
        "colab": {
          "base_uri": "https://localhost:8080/",
          "height": 162
        },
        "id": "_vSrYlPrHHA4",
        "outputId": "d0a3b3a0-586e-4fee-8a65-171d1ac95c84"
      },
      "source": [
        "np.arange(2,2,0)"
      ],
      "execution_count": 13,
      "outputs": [
        {
          "output_type": "error",
          "ename": "ZeroDivisionError",
          "evalue": "ignored",
          "traceback": [
            "\u001b[0;31m---------------------------------------------------------------------------\u001b[0m",
            "\u001b[0;31mZeroDivisionError\u001b[0m                         Traceback (most recent call last)",
            "\u001b[0;32m<ipython-input-13-1ef4be738fe1>\u001b[0m in \u001b[0;36m<module>\u001b[0;34m()\u001b[0m\n\u001b[0;32m----> 1\u001b[0;31m \u001b[0mnp\u001b[0m\u001b[0;34m.\u001b[0m\u001b[0marange\u001b[0m\u001b[0;34m(\u001b[0m\u001b[0;36m2\u001b[0m\u001b[0;34m,\u001b[0m\u001b[0;36m2\u001b[0m\u001b[0;34m,\u001b[0m\u001b[0;36m0\u001b[0m\u001b[0;34m)\u001b[0m\u001b[0;34m\u001b[0m\u001b[0;34m\u001b[0m\u001b[0m\n\u001b[0m",
            "\u001b[0;31mZeroDivisionError\u001b[0m: division by zero"
          ]
        }
      ]
    },
    {
      "cell_type": "code",
      "metadata": {
        "id": "CwdnDs7fHjCh"
      },
      "source": [
        "#Numpy - Is for mathematical operations. Like creating and manipulating arrays and numbers\n",
        "\n",
        "# Pandas - Is the data handling mechanism and tool. Which can handle the datasets to process into models\n"
      ],
      "execution_count": 14,
      "outputs": []
    },
    {
      "cell_type": "code",
      "metadata": {
        "colab": {
          "base_uri": "https://localhost:8080/"
        },
        "id": "GN1GjqrQH3Ax",
        "outputId": "b42afaf8-535a-412b-8d3a-8b50ff704b6e"
      },
      "source": [
        "np.random.rand(3,2)"
      ],
      "execution_count": 15,
      "outputs": [
        {
          "output_type": "execute_result",
          "data": {
            "text/plain": [
              "array([[0.81878112, 0.75095388],\n",
              "       [0.27857995, 0.87609001],\n",
              "       [0.93440918, 0.15105175]])"
            ]
          },
          "metadata": {
            "tags": []
          },
          "execution_count": 15
        }
      ]
    },
    {
      "cell_type": "code",
      "metadata": {
        "colab": {
          "base_uri": "https://localhost:8080/"
        },
        "id": "BdEezW0kH7Ql",
        "outputId": "f461951c-f9dd-4edf-9843-c908fdd4a7b6"
      },
      "source": [
        "arr1 = np.random.rand(3,2)\n",
        "\n",
        "arr2 = np.random.rand(3,2)\n",
        "\n",
        "sum1 = np.add(arr1, arr2)\n",
        "\n",
        "print(arr1)\n",
        "print(arr2)\n",
        "print(sum1)"
      ],
      "execution_count": 17,
      "outputs": [
        {
          "output_type": "stream",
          "text": [
            "[[0.45302177 0.06807193]\n",
            " [0.54562794 0.70338343]\n",
            " [0.58325714 0.64566701]]\n",
            "[[0.29024117 0.80387474]\n",
            " [0.29153946 0.7441946 ]\n",
            " [0.44016619 0.58408923]]\n",
            "[[0.74326294 0.87194667]\n",
            " [0.8371674  1.44757803]\n",
            " [1.02342332 1.22975624]]\n"
          ],
          "name": "stdout"
        }
      ]
    },
    {
      "cell_type": "code",
      "metadata": {
        "colab": {
          "base_uri": "https://localhost:8080/"
        },
        "id": "EijTte2iITUx",
        "outputId": "c5737aa7-2b4c-4cd8-edfd-b69df57e371d"
      },
      "source": [
        "sub1 = np.subtract(arr1,arr2)\n",
        "\n",
        "print(sub1)"
      ],
      "execution_count": 19,
      "outputs": [
        {
          "output_type": "stream",
          "text": [
            "[[ 0.1627806  -0.73580282]\n",
            " [ 0.25408848 -0.04081118]\n",
            " [ 0.14309095  0.06157779]]\n"
          ],
          "name": "stdout"
        }
      ]
    },
    {
      "cell_type": "code",
      "metadata": {
        "colab": {
          "base_uri": "https://localhost:8080/",
          "height": 35
        },
        "id": "uQUBGpTYIosT",
        "outputId": "b7d7b33a-f726-4b48-8513-378d5c9a3bd4"
      },
      "source": [
        "# Indexing and slicing\n",
        "\n",
        "a = [1,2,5,7,20.5,\"Codegnan\", True]\n",
        "\n",
        "a [5]"
      ],
      "execution_count": 22,
      "outputs": [
        {
          "output_type": "execute_result",
          "data": {
            "application/vnd.google.colaboratory.intrinsic+json": {
              "type": "string"
            },
            "text/plain": [
              "'Codegnan'"
            ]
          },
          "metadata": {
            "tags": []
          },
          "execution_count": 22
        }
      ]
    },
    {
      "cell_type": "code",
      "metadata": {
        "colab": {
          "base_uri": "https://localhost:8080/",
          "height": 162
        },
        "id": "zs38RIEbI3ua",
        "outputId": "8c285f0b-0305-4757-83dd-1873087358b7"
      },
      "source": [
        "a[8]"
      ],
      "execution_count": 23,
      "outputs": [
        {
          "output_type": "error",
          "ename": "IndexError",
          "evalue": "ignored",
          "traceback": [
            "\u001b[0;31m---------------------------------------------------------------------------\u001b[0m",
            "\u001b[0;31mIndexError\u001b[0m                                Traceback (most recent call last)",
            "\u001b[0;32m<ipython-input-23-beec7994ef7f>\u001b[0m in \u001b[0;36m<module>\u001b[0;34m()\u001b[0m\n\u001b[0;32m----> 1\u001b[0;31m \u001b[0ma\u001b[0m\u001b[0;34m[\u001b[0m\u001b[0;36m8\u001b[0m\u001b[0;34m]\u001b[0m\u001b[0;34m\u001b[0m\u001b[0;34m\u001b[0m\u001b[0m\n\u001b[0m",
            "\u001b[0;31mIndexError\u001b[0m: list index out of range"
          ]
        }
      ]
    },
    {
      "cell_type": "code",
      "metadata": {
        "colab": {
          "base_uri": "https://localhost:8080/"
        },
        "id": "AwAeWh6tI404",
        "outputId": "f8736e1e-ee26-45d4-bcfb-7c57883b67c1"
      },
      "source": [
        "# Slicing = [start: end+1]\n",
        "\n",
        "a [0:6]"
      ],
      "execution_count": 25,
      "outputs": [
        {
          "output_type": "execute_result",
          "data": {
            "text/plain": [
              "[1, 2, 5, 7, 20.5, 'Codegnan']"
            ]
          },
          "metadata": {
            "tags": []
          },
          "execution_count": 25
        }
      ]
    },
    {
      "cell_type": "code",
      "metadata": {
        "colab": {
          "base_uri": "https://localhost:8080/"
        },
        "id": "mO6gZA8LJend",
        "outputId": "dd783708-a9b9-4346-9342-7338544ac12e"
      },
      "source": [
        "a[-1]"
      ],
      "execution_count": 26,
      "outputs": [
        {
          "output_type": "execute_result",
          "data": {
            "text/plain": [
              "True"
            ]
          },
          "metadata": {
            "tags": []
          },
          "execution_count": 26
        }
      ]
    },
    {
      "cell_type": "code",
      "metadata": {
        "colab": {
          "base_uri": "https://localhost:8080/",
          "height": 35
        },
        "id": "aA99XtEiJpZe",
        "outputId": "53a3b0e4-8eab-4097-a299-c8406a4e043c"
      },
      "source": [
        "a[-2]"
      ],
      "execution_count": 27,
      "outputs": [
        {
          "output_type": "execute_result",
          "data": {
            "application/vnd.google.colaboratory.intrinsic+json": {
              "type": "string"
            },
            "text/plain": [
              "'Codegnan'"
            ]
          },
          "metadata": {
            "tags": []
          },
          "execution_count": 27
        }
      ]
    },
    {
      "cell_type": "code",
      "metadata": {
        "colab": {
          "base_uri": "https://localhost:8080/"
        },
        "id": "F03W6w1vJq6l",
        "outputId": "e5f41233-dd61-4601-d76b-43481ba55bc1"
      },
      "source": [
        "a[:5]"
      ],
      "execution_count": 28,
      "outputs": [
        {
          "output_type": "execute_result",
          "data": {
            "text/plain": [
              "[1, 2, 5, 7, 20.5]"
            ]
          },
          "metadata": {
            "tags": []
          },
          "execution_count": 28
        }
      ]
    },
    {
      "cell_type": "code",
      "metadata": {
        "id": "qWPsP4m9JszJ"
      },
      "source": [
        "a = [1,2,5,7,20.5,\"Codegnan\", True]"
      ],
      "execution_count": 29,
      "outputs": []
    },
    {
      "cell_type": "code",
      "metadata": {
        "colab": {
          "base_uri": "https://localhost:8080/"
        },
        "id": "Iq-GxWpGJ0ZC",
        "outputId": "40ddf7f5-3e11-4ed1-94e3-0e53b03c7234"
      },
      "source": [
        "a[-6:-1]"
      ],
      "execution_count": 30,
      "outputs": [
        {
          "output_type": "execute_result",
          "data": {
            "text/plain": [
              "[2, 5, 7, 20.5, 'Codegnan']"
            ]
          },
          "metadata": {
            "tags": []
          },
          "execution_count": 30
        }
      ]
    },
    {
      "cell_type": "code",
      "metadata": {
        "colab": {
          "base_uri": "https://localhost:8080/"
        },
        "id": "E7sA1aRwKFHx",
        "outputId": "798fe414-f192-40da-fb83-3a78f1af9ad5"
      },
      "source": [
        "a = [1,2,5,7,20.5,\"Codegnan\", True,1,2,5,7,20.5,\"Codegnan\", True,1,2,5,7,20.5,\"Codegnan\", True]\n",
        "\n",
        "a[0:10:2]"
      ],
      "execution_count": 31,
      "outputs": [
        {
          "output_type": "execute_result",
          "data": {
            "text/plain": [
              "[1, 5, 20.5, True, 2]"
            ]
          },
          "metadata": {
            "tags": []
          },
          "execution_count": 31
        }
      ]
    },
    {
      "cell_type": "code",
      "metadata": {
        "id": "Hhn4oUXqKitQ"
      },
      "source": [
        "a.reverse()"
      ],
      "execution_count": 32,
      "outputs": []
    },
    {
      "cell_type": "code",
      "metadata": {
        "id": "66XXx1X1KsQ1",
        "outputId": "89828d84-a283-4936-e7bd-37c8f3ea6515",
        "colab": {
          "base_uri": "https://localhost:8080/"
        }
      },
      "source": [
        "a\n"
      ],
      "execution_count": 33,
      "outputs": [
        {
          "output_type": "execute_result",
          "data": {
            "text/plain": [
              "[True,\n",
              " 'Codegnan',\n",
              " 20.5,\n",
              " 7,\n",
              " 5,\n",
              " 2,\n",
              " 1,\n",
              " True,\n",
              " 'Codegnan',\n",
              " 20.5,\n",
              " 7,\n",
              " 5,\n",
              " 2,\n",
              " 1,\n",
              " True,\n",
              " 'Codegnan',\n",
              " 20.5,\n",
              " 7,\n",
              " 5,\n",
              " 2,\n",
              " 1]"
            ]
          },
          "metadata": {
            "tags": []
          },
          "execution_count": 33
        }
      ]
    },
    {
      "cell_type": "code",
      "metadata": {
        "id": "xmMTII3KKtNi",
        "outputId": "bd7207d3-f9f1-4a2e-8560-e1cb0ed02bae",
        "colab": {
          "base_uri": "https://localhost:8080/"
        }
      },
      "source": [
        "#The skip value will take start and end+1 variables and we are skipping values in between\n",
        "a = [1,2,5,7,20.5,\"Codegnan\", True,1,2,5,7,20.5,\"Codegnan\", True,1,2,5,7,20.5,\"Codegnan\", True]\n",
        "\n",
        "a[0:10:3]\n"
      ],
      "execution_count": 35,
      "outputs": [
        {
          "output_type": "execute_result",
          "data": {
            "text/plain": [
              "[1, 7, True, 5]"
            ]
          },
          "metadata": {
            "tags": []
          },
          "execution_count": 35
        }
      ]
    },
    {
      "cell_type": "code",
      "metadata": {
        "id": "J78fxJlhK9iM",
        "outputId": "ddc72d38-4a8a-4eb7-c812-8f7817178476",
        "colab": {
          "base_uri": "https://localhost:8080/"
        }
      },
      "source": [
        "# Reshape an array\n",
        "\n",
        "arr2 = np.array([[1,2,3,4],\n",
        "         [5,6,7,8]])\n",
        "\n",
        "arr2"
      ],
      "execution_count": 38,
      "outputs": [
        {
          "output_type": "execute_result",
          "data": {
            "text/plain": [
              "array([[1, 2, 3, 4],\n",
              "       [5, 6, 7, 8]])"
            ]
          },
          "metadata": {
            "tags": []
          },
          "execution_count": 38
        }
      ]
    },
    {
      "cell_type": "code",
      "metadata": {
        "id": "u6qEYjlkLhRG",
        "outputId": "60803428-fc55-48fd-cca2-28b501997ea1",
        "colab": {
          "base_uri": "https://localhost:8080/"
        }
      },
      "source": [
        "arr2.shape"
      ],
      "execution_count": 39,
      "outputs": [
        {
          "output_type": "execute_result",
          "data": {
            "text/plain": [
              "(2, 4)"
            ]
          },
          "metadata": {
            "tags": []
          },
          "execution_count": 39
        }
      ]
    },
    {
      "cell_type": "code",
      "metadata": {
        "id": "xE52Z6kwLlDy",
        "outputId": "7910a93c-b3db-4772-d43d-24eb12351ed0",
        "colab": {
          "base_uri": "https://localhost:8080/"
        }
      },
      "source": [
        "arr2.reshape(1,8)"
      ],
      "execution_count": 40,
      "outputs": [
        {
          "output_type": "execute_result",
          "data": {
            "text/plain": [
              "array([[1, 2, 3, 4, 5, 6, 7, 8]])"
            ]
          },
          "metadata": {
            "tags": []
          },
          "execution_count": 40
        }
      ]
    },
    {
      "cell_type": "markdown",
      "metadata": {
        "id": "Ma_ti7vEL75v"
      },
      "source": [
        "## Pandas - Data Handling mechanism. We need to upload a dataset and get the link to read the dataset"
      ]
    },
    {
      "cell_type": "code",
      "metadata": {
        "id": "RQWl54OxLwwS"
      },
      "source": [
        "import pandas as pd"
      ],
      "execution_count": 41,
      "outputs": []
    },
    {
      "cell_type": "code",
      "metadata": {
        "id": "mdDHC-StMs3T"
      },
      "source": [
        "#Read the dataset using pandas\n",
        "\n",
        "# We have a function read_csv() to read any csv file\n",
        "\n",
        "# CSV - Commo Seperate Values\n",
        "\n",
        "\n",
        "#We have plenty number of file reading mechanisms in pandas\n",
        "\n",
        "# we can read excel sheet, database files with different reading formats\n",
        "\n",
        "data = pd.read_csv(\"/content/ipl_matches.csv\")"
      ],
      "execution_count": 42,
      "outputs": []
    },
    {
      "cell_type": "code",
      "metadata": {
        "id": "aab7ujR0Nj1N",
        "outputId": "33b7c04a-2864-4191-bcc5-bd1e40827bd8",
        "colab": {
          "base_uri": "https://localhost:8080/",
          "height": 780
        }
      },
      "source": [
        "data.head(10)"
      ],
      "execution_count": 44,
      "outputs": [
        {
          "output_type": "execute_result",
          "data": {
            "text/html": [
              "<div>\n",
              "<style scoped>\n",
              "    .dataframe tbody tr th:only-of-type {\n",
              "        vertical-align: middle;\n",
              "    }\n",
              "\n",
              "    .dataframe tbody tr th {\n",
              "        vertical-align: top;\n",
              "    }\n",
              "\n",
              "    .dataframe thead th {\n",
              "        text-align: right;\n",
              "    }\n",
              "</style>\n",
              "<table border=\"1\" class=\"dataframe\">\n",
              "  <thead>\n",
              "    <tr style=\"text-align: right;\">\n",
              "      <th></th>\n",
              "      <th>id</th>\n",
              "      <th>season</th>\n",
              "      <th>city</th>\n",
              "      <th>date</th>\n",
              "      <th>team1</th>\n",
              "      <th>team2</th>\n",
              "      <th>toss_winner</th>\n",
              "      <th>toss_decision</th>\n",
              "      <th>result</th>\n",
              "      <th>dl_applied</th>\n",
              "      <th>winner</th>\n",
              "      <th>win_by_runs</th>\n",
              "      <th>win_by_wickets</th>\n",
              "      <th>player_of_match</th>\n",
              "      <th>venue</th>\n",
              "      <th>umpire1</th>\n",
              "      <th>umpire2</th>\n",
              "      <th>umpire3</th>\n",
              "    </tr>\n",
              "  </thead>\n",
              "  <tbody>\n",
              "    <tr>\n",
              "      <th>0</th>\n",
              "      <td>1</td>\n",
              "      <td>2017</td>\n",
              "      <td>Hyderabad</td>\n",
              "      <td>2017-04-05</td>\n",
              "      <td>Sunrisers Hyderabad</td>\n",
              "      <td>Royal Challengers Bangalore</td>\n",
              "      <td>Royal Challengers Bangalore</td>\n",
              "      <td>field</td>\n",
              "      <td>normal</td>\n",
              "      <td>0</td>\n",
              "      <td>Sunrisers Hyderabad</td>\n",
              "      <td>35</td>\n",
              "      <td>0</td>\n",
              "      <td>Yuvraj Singh</td>\n",
              "      <td>Rajiv Gandhi International Stadium, Uppal</td>\n",
              "      <td>AY Dandekar</td>\n",
              "      <td>NJ Llong</td>\n",
              "      <td>NaN</td>\n",
              "    </tr>\n",
              "    <tr>\n",
              "      <th>1</th>\n",
              "      <td>2</td>\n",
              "      <td>2017</td>\n",
              "      <td>Pune</td>\n",
              "      <td>2017-04-06</td>\n",
              "      <td>Mumbai Indians</td>\n",
              "      <td>Rising Pune Supergiant</td>\n",
              "      <td>Rising Pune Supergiant</td>\n",
              "      <td>field</td>\n",
              "      <td>normal</td>\n",
              "      <td>0</td>\n",
              "      <td>Rising Pune Supergiant</td>\n",
              "      <td>0</td>\n",
              "      <td>7</td>\n",
              "      <td>SPD Smith</td>\n",
              "      <td>Maharashtra Cricket Association Stadium</td>\n",
              "      <td>A Nand Kishore</td>\n",
              "      <td>S Ravi</td>\n",
              "      <td>NaN</td>\n",
              "    </tr>\n",
              "    <tr>\n",
              "      <th>2</th>\n",
              "      <td>3</td>\n",
              "      <td>2017</td>\n",
              "      <td>Rajkot</td>\n",
              "      <td>2017-04-07</td>\n",
              "      <td>Gujarat Lions</td>\n",
              "      <td>Kolkata Knight Riders</td>\n",
              "      <td>Kolkata Knight Riders</td>\n",
              "      <td>field</td>\n",
              "      <td>normal</td>\n",
              "      <td>0</td>\n",
              "      <td>Kolkata Knight Riders</td>\n",
              "      <td>0</td>\n",
              "      <td>10</td>\n",
              "      <td>CA Lynn</td>\n",
              "      <td>Saurashtra Cricket Association Stadium</td>\n",
              "      <td>Nitin Menon</td>\n",
              "      <td>CK Nandan</td>\n",
              "      <td>NaN</td>\n",
              "    </tr>\n",
              "    <tr>\n",
              "      <th>3</th>\n",
              "      <td>4</td>\n",
              "      <td>2017</td>\n",
              "      <td>Indore</td>\n",
              "      <td>2017-04-08</td>\n",
              "      <td>Rising Pune Supergiant</td>\n",
              "      <td>Kings XI Punjab</td>\n",
              "      <td>Kings XI Punjab</td>\n",
              "      <td>field</td>\n",
              "      <td>normal</td>\n",
              "      <td>0</td>\n",
              "      <td>Kings XI Punjab</td>\n",
              "      <td>0</td>\n",
              "      <td>6</td>\n",
              "      <td>GJ Maxwell</td>\n",
              "      <td>Holkar Cricket Stadium</td>\n",
              "      <td>AK Chaudhary</td>\n",
              "      <td>C Shamshuddin</td>\n",
              "      <td>NaN</td>\n",
              "    </tr>\n",
              "    <tr>\n",
              "      <th>4</th>\n",
              "      <td>5</td>\n",
              "      <td>2017</td>\n",
              "      <td>Bangalore</td>\n",
              "      <td>2017-04-08</td>\n",
              "      <td>Royal Challengers Bangalore</td>\n",
              "      <td>Delhi Daredevils</td>\n",
              "      <td>Royal Challengers Bangalore</td>\n",
              "      <td>bat</td>\n",
              "      <td>normal</td>\n",
              "      <td>0</td>\n",
              "      <td>Royal Challengers Bangalore</td>\n",
              "      <td>15</td>\n",
              "      <td>0</td>\n",
              "      <td>KM Jadhav</td>\n",
              "      <td>M Chinnaswamy Stadium</td>\n",
              "      <td>NaN</td>\n",
              "      <td>NaN</td>\n",
              "      <td>NaN</td>\n",
              "    </tr>\n",
              "    <tr>\n",
              "      <th>5</th>\n",
              "      <td>6</td>\n",
              "      <td>2017</td>\n",
              "      <td>Hyderabad</td>\n",
              "      <td>2017-04-09</td>\n",
              "      <td>Gujarat Lions</td>\n",
              "      <td>Sunrisers Hyderabad</td>\n",
              "      <td>Sunrisers Hyderabad</td>\n",
              "      <td>field</td>\n",
              "      <td>normal</td>\n",
              "      <td>0</td>\n",
              "      <td>Sunrisers Hyderabad</td>\n",
              "      <td>0</td>\n",
              "      <td>9</td>\n",
              "      <td>Rashid Khan</td>\n",
              "      <td>Rajiv Gandhi International Stadium, Uppal</td>\n",
              "      <td>A Deshmukh</td>\n",
              "      <td>NJ Llong</td>\n",
              "      <td>NaN</td>\n",
              "    </tr>\n",
              "    <tr>\n",
              "      <th>6</th>\n",
              "      <td>7</td>\n",
              "      <td>2017</td>\n",
              "      <td>Mumbai</td>\n",
              "      <td>2017-04-09</td>\n",
              "      <td>Kolkata Knight Riders</td>\n",
              "      <td>Mumbai Indians</td>\n",
              "      <td>Mumbai Indians</td>\n",
              "      <td>field</td>\n",
              "      <td>normal</td>\n",
              "      <td>0</td>\n",
              "      <td>Mumbai Indians</td>\n",
              "      <td>0</td>\n",
              "      <td>4</td>\n",
              "      <td>N Rana</td>\n",
              "      <td>Wankhede Stadium</td>\n",
              "      <td>Nitin Menon</td>\n",
              "      <td>CK Nandan</td>\n",
              "      <td>NaN</td>\n",
              "    </tr>\n",
              "    <tr>\n",
              "      <th>7</th>\n",
              "      <td>8</td>\n",
              "      <td>2017</td>\n",
              "      <td>Indore</td>\n",
              "      <td>2017-04-10</td>\n",
              "      <td>Royal Challengers Bangalore</td>\n",
              "      <td>Kings XI Punjab</td>\n",
              "      <td>Royal Challengers Bangalore</td>\n",
              "      <td>bat</td>\n",
              "      <td>normal</td>\n",
              "      <td>0</td>\n",
              "      <td>Kings XI Punjab</td>\n",
              "      <td>0</td>\n",
              "      <td>8</td>\n",
              "      <td>AR Patel</td>\n",
              "      <td>Holkar Cricket Stadium</td>\n",
              "      <td>AK Chaudhary</td>\n",
              "      <td>C Shamshuddin</td>\n",
              "      <td>NaN</td>\n",
              "    </tr>\n",
              "    <tr>\n",
              "      <th>8</th>\n",
              "      <td>9</td>\n",
              "      <td>2017</td>\n",
              "      <td>Pune</td>\n",
              "      <td>2017-04-11</td>\n",
              "      <td>Delhi Daredevils</td>\n",
              "      <td>Rising Pune Supergiant</td>\n",
              "      <td>Rising Pune Supergiant</td>\n",
              "      <td>field</td>\n",
              "      <td>normal</td>\n",
              "      <td>0</td>\n",
              "      <td>Delhi Daredevils</td>\n",
              "      <td>97</td>\n",
              "      <td>0</td>\n",
              "      <td>SV Samson</td>\n",
              "      <td>Maharashtra Cricket Association Stadium</td>\n",
              "      <td>AY Dandekar</td>\n",
              "      <td>S Ravi</td>\n",
              "      <td>NaN</td>\n",
              "    </tr>\n",
              "    <tr>\n",
              "      <th>9</th>\n",
              "      <td>10</td>\n",
              "      <td>2017</td>\n",
              "      <td>Mumbai</td>\n",
              "      <td>2017-04-12</td>\n",
              "      <td>Sunrisers Hyderabad</td>\n",
              "      <td>Mumbai Indians</td>\n",
              "      <td>Mumbai Indians</td>\n",
              "      <td>field</td>\n",
              "      <td>normal</td>\n",
              "      <td>0</td>\n",
              "      <td>Mumbai Indians</td>\n",
              "      <td>0</td>\n",
              "      <td>4</td>\n",
              "      <td>JJ Bumrah</td>\n",
              "      <td>Wankhede Stadium</td>\n",
              "      <td>Nitin Menon</td>\n",
              "      <td>CK Nandan</td>\n",
              "      <td>NaN</td>\n",
              "    </tr>\n",
              "  </tbody>\n",
              "</table>\n",
              "</div>"
            ],
            "text/plain": [
              "   id  season       city  ...         umpire1        umpire2 umpire3\n",
              "0   1    2017  Hyderabad  ...     AY Dandekar       NJ Llong     NaN\n",
              "1   2    2017       Pune  ...  A Nand Kishore         S Ravi     NaN\n",
              "2   3    2017     Rajkot  ...     Nitin Menon      CK Nandan     NaN\n",
              "3   4    2017     Indore  ...    AK Chaudhary  C Shamshuddin     NaN\n",
              "4   5    2017  Bangalore  ...             NaN            NaN     NaN\n",
              "5   6    2017  Hyderabad  ...      A Deshmukh       NJ Llong     NaN\n",
              "6   7    2017     Mumbai  ...     Nitin Menon      CK Nandan     NaN\n",
              "7   8    2017     Indore  ...    AK Chaudhary  C Shamshuddin     NaN\n",
              "8   9    2017       Pune  ...     AY Dandekar         S Ravi     NaN\n",
              "9  10    2017     Mumbai  ...     Nitin Menon      CK Nandan     NaN\n",
              "\n",
              "[10 rows x 18 columns]"
            ]
          },
          "metadata": {
            "tags": []
          },
          "execution_count": 44
        }
      ]
    },
    {
      "cell_type": "code",
      "metadata": {
        "id": "gfiin9khNpvm",
        "outputId": "78029345-4a22-4385-f779-5cc4ba068a2f",
        "colab": {
          "base_uri": "https://localhost:8080/",
          "height": 408
        }
      },
      "source": [
        "# If you want to retrieve last 5 or last 10 rows. Then use tail() function\n",
        "\n",
        "data.tail()"
      ],
      "execution_count": 46,
      "outputs": [
        {
          "output_type": "execute_result",
          "data": {
            "text/html": [
              "<div>\n",
              "<style scoped>\n",
              "    .dataframe tbody tr th:only-of-type {\n",
              "        vertical-align: middle;\n",
              "    }\n",
              "\n",
              "    .dataframe tbody tr th {\n",
              "        vertical-align: top;\n",
              "    }\n",
              "\n",
              "    .dataframe thead th {\n",
              "        text-align: right;\n",
              "    }\n",
              "</style>\n",
              "<table border=\"1\" class=\"dataframe\">\n",
              "  <thead>\n",
              "    <tr style=\"text-align: right;\">\n",
              "      <th></th>\n",
              "      <th>id</th>\n",
              "      <th>season</th>\n",
              "      <th>city</th>\n",
              "      <th>date</th>\n",
              "      <th>team1</th>\n",
              "      <th>team2</th>\n",
              "      <th>toss_winner</th>\n",
              "      <th>toss_decision</th>\n",
              "      <th>result</th>\n",
              "      <th>dl_applied</th>\n",
              "      <th>winner</th>\n",
              "      <th>win_by_runs</th>\n",
              "      <th>win_by_wickets</th>\n",
              "      <th>player_of_match</th>\n",
              "      <th>venue</th>\n",
              "      <th>umpire1</th>\n",
              "      <th>umpire2</th>\n",
              "      <th>umpire3</th>\n",
              "    </tr>\n",
              "  </thead>\n",
              "  <tbody>\n",
              "    <tr>\n",
              "      <th>631</th>\n",
              "      <td>632</td>\n",
              "      <td>2016</td>\n",
              "      <td>Raipur</td>\n",
              "      <td>2016-05-22</td>\n",
              "      <td>Delhi Daredevils</td>\n",
              "      <td>Royal Challengers Bangalore</td>\n",
              "      <td>Royal Challengers Bangalore</td>\n",
              "      <td>field</td>\n",
              "      <td>normal</td>\n",
              "      <td>0</td>\n",
              "      <td>Royal Challengers Bangalore</td>\n",
              "      <td>0</td>\n",
              "      <td>6</td>\n",
              "      <td>V Kohli</td>\n",
              "      <td>Shaheed Veer Narayan Singh International Stadium</td>\n",
              "      <td>A Nand Kishore</td>\n",
              "      <td>BNJ Oxenford</td>\n",
              "      <td>NaN</td>\n",
              "    </tr>\n",
              "    <tr>\n",
              "      <th>632</th>\n",
              "      <td>633</td>\n",
              "      <td>2016</td>\n",
              "      <td>Bangalore</td>\n",
              "      <td>2016-05-24</td>\n",
              "      <td>Gujarat Lions</td>\n",
              "      <td>Royal Challengers Bangalore</td>\n",
              "      <td>Royal Challengers Bangalore</td>\n",
              "      <td>field</td>\n",
              "      <td>normal</td>\n",
              "      <td>0</td>\n",
              "      <td>Royal Challengers Bangalore</td>\n",
              "      <td>0</td>\n",
              "      <td>4</td>\n",
              "      <td>AB de Villiers</td>\n",
              "      <td>M Chinnaswamy Stadium</td>\n",
              "      <td>AK Chaudhary</td>\n",
              "      <td>HDPK Dharmasena</td>\n",
              "      <td>NaN</td>\n",
              "    </tr>\n",
              "    <tr>\n",
              "      <th>633</th>\n",
              "      <td>634</td>\n",
              "      <td>2016</td>\n",
              "      <td>Delhi</td>\n",
              "      <td>2016-05-25</td>\n",
              "      <td>Sunrisers Hyderabad</td>\n",
              "      <td>Kolkata Knight Riders</td>\n",
              "      <td>Kolkata Knight Riders</td>\n",
              "      <td>field</td>\n",
              "      <td>normal</td>\n",
              "      <td>0</td>\n",
              "      <td>Sunrisers Hyderabad</td>\n",
              "      <td>22</td>\n",
              "      <td>0</td>\n",
              "      <td>MC Henriques</td>\n",
              "      <td>Feroz Shah Kotla</td>\n",
              "      <td>M Erasmus</td>\n",
              "      <td>C Shamshuddin</td>\n",
              "      <td>NaN</td>\n",
              "    </tr>\n",
              "    <tr>\n",
              "      <th>634</th>\n",
              "      <td>635</td>\n",
              "      <td>2016</td>\n",
              "      <td>Delhi</td>\n",
              "      <td>2016-05-27</td>\n",
              "      <td>Gujarat Lions</td>\n",
              "      <td>Sunrisers Hyderabad</td>\n",
              "      <td>Sunrisers Hyderabad</td>\n",
              "      <td>field</td>\n",
              "      <td>normal</td>\n",
              "      <td>0</td>\n",
              "      <td>Sunrisers Hyderabad</td>\n",
              "      <td>0</td>\n",
              "      <td>4</td>\n",
              "      <td>DA Warner</td>\n",
              "      <td>Feroz Shah Kotla</td>\n",
              "      <td>M Erasmus</td>\n",
              "      <td>CK Nandan</td>\n",
              "      <td>NaN</td>\n",
              "    </tr>\n",
              "    <tr>\n",
              "      <th>635</th>\n",
              "      <td>636</td>\n",
              "      <td>2016</td>\n",
              "      <td>Bangalore</td>\n",
              "      <td>2016-05-29</td>\n",
              "      <td>Sunrisers Hyderabad</td>\n",
              "      <td>Royal Challengers Bangalore</td>\n",
              "      <td>Sunrisers Hyderabad</td>\n",
              "      <td>bat</td>\n",
              "      <td>normal</td>\n",
              "      <td>0</td>\n",
              "      <td>Sunrisers Hyderabad</td>\n",
              "      <td>8</td>\n",
              "      <td>0</td>\n",
              "      <td>BCJ Cutting</td>\n",
              "      <td>M Chinnaswamy Stadium</td>\n",
              "      <td>HDPK Dharmasena</td>\n",
              "      <td>BNJ Oxenford</td>\n",
              "      <td>NaN</td>\n",
              "    </tr>\n",
              "  </tbody>\n",
              "</table>\n",
              "</div>"
            ],
            "text/plain": [
              "      id  season       city  ...          umpire1          umpire2 umpire3\n",
              "631  632    2016     Raipur  ...   A Nand Kishore     BNJ Oxenford     NaN\n",
              "632  633    2016  Bangalore  ...     AK Chaudhary  HDPK Dharmasena     NaN\n",
              "633  634    2016      Delhi  ...        M Erasmus    C Shamshuddin     NaN\n",
              "634  635    2016      Delhi  ...        M Erasmus        CK Nandan     NaN\n",
              "635  636    2016  Bangalore  ...  HDPK Dharmasena     BNJ Oxenford     NaN\n",
              "\n",
              "[5 rows x 18 columns]"
            ]
          },
          "metadata": {
            "tags": []
          },
          "execution_count": 46
        }
      ]
    },
    {
      "cell_type": "code",
      "metadata": {
        "id": "F2fYO4olN7NS",
        "outputId": "54151e05-ba53-47dd-b15f-5444ade71f0a",
        "colab": {
          "base_uri": "https://localhost:8080/",
          "height": 780
        }
      },
      "source": [
        "data.tail(10)"
      ],
      "execution_count": 47,
      "outputs": [
        {
          "output_type": "execute_result",
          "data": {
            "text/html": [
              "<div>\n",
              "<style scoped>\n",
              "    .dataframe tbody tr th:only-of-type {\n",
              "        vertical-align: middle;\n",
              "    }\n",
              "\n",
              "    .dataframe tbody tr th {\n",
              "        vertical-align: top;\n",
              "    }\n",
              "\n",
              "    .dataframe thead th {\n",
              "        text-align: right;\n",
              "    }\n",
              "</style>\n",
              "<table border=\"1\" class=\"dataframe\">\n",
              "  <thead>\n",
              "    <tr style=\"text-align: right;\">\n",
              "      <th></th>\n",
              "      <th>id</th>\n",
              "      <th>season</th>\n",
              "      <th>city</th>\n",
              "      <th>date</th>\n",
              "      <th>team1</th>\n",
              "      <th>team2</th>\n",
              "      <th>toss_winner</th>\n",
              "      <th>toss_decision</th>\n",
              "      <th>result</th>\n",
              "      <th>dl_applied</th>\n",
              "      <th>winner</th>\n",
              "      <th>win_by_runs</th>\n",
              "      <th>win_by_wickets</th>\n",
              "      <th>player_of_match</th>\n",
              "      <th>venue</th>\n",
              "      <th>umpire1</th>\n",
              "      <th>umpire2</th>\n",
              "      <th>umpire3</th>\n",
              "    </tr>\n",
              "  </thead>\n",
              "  <tbody>\n",
              "    <tr>\n",
              "      <th>626</th>\n",
              "      <td>627</td>\n",
              "      <td>2016</td>\n",
              "      <td>Kanpur</td>\n",
              "      <td>2016-05-19</td>\n",
              "      <td>Kolkata Knight Riders</td>\n",
              "      <td>Gujarat Lions</td>\n",
              "      <td>Gujarat Lions</td>\n",
              "      <td>field</td>\n",
              "      <td>normal</td>\n",
              "      <td>0</td>\n",
              "      <td>Gujarat Lions</td>\n",
              "      <td>0</td>\n",
              "      <td>6</td>\n",
              "      <td>DR Smith</td>\n",
              "      <td>Green Park</td>\n",
              "      <td>AK Chaudhary</td>\n",
              "      <td>CK Nandan</td>\n",
              "      <td>NaN</td>\n",
              "    </tr>\n",
              "    <tr>\n",
              "      <th>627</th>\n",
              "      <td>628</td>\n",
              "      <td>2016</td>\n",
              "      <td>Raipur</td>\n",
              "      <td>2016-05-20</td>\n",
              "      <td>Sunrisers Hyderabad</td>\n",
              "      <td>Delhi Daredevils</td>\n",
              "      <td>Delhi Daredevils</td>\n",
              "      <td>field</td>\n",
              "      <td>normal</td>\n",
              "      <td>0</td>\n",
              "      <td>Delhi Daredevils</td>\n",
              "      <td>0</td>\n",
              "      <td>6</td>\n",
              "      <td>KK Nair</td>\n",
              "      <td>Shaheed Veer Narayan Singh International Stadium</td>\n",
              "      <td>A Nand Kishore</td>\n",
              "      <td>BNJ Oxenford</td>\n",
              "      <td>NaN</td>\n",
              "    </tr>\n",
              "    <tr>\n",
              "      <th>628</th>\n",
              "      <td>629</td>\n",
              "      <td>2016</td>\n",
              "      <td>Visakhapatnam</td>\n",
              "      <td>2016-05-21</td>\n",
              "      <td>Kings XI Punjab</td>\n",
              "      <td>Rising Pune Supergiants</td>\n",
              "      <td>Kings XI Punjab</td>\n",
              "      <td>bat</td>\n",
              "      <td>normal</td>\n",
              "      <td>0</td>\n",
              "      <td>Rising Pune Supergiants</td>\n",
              "      <td>0</td>\n",
              "      <td>4</td>\n",
              "      <td>MS Dhoni</td>\n",
              "      <td>Dr. Y.S. Rajasekhara Reddy ACA-VDCA Cricket St...</td>\n",
              "      <td>HDPK Dharmasena</td>\n",
              "      <td>Nitin Menon</td>\n",
              "      <td>NaN</td>\n",
              "    </tr>\n",
              "    <tr>\n",
              "      <th>629</th>\n",
              "      <td>630</td>\n",
              "      <td>2016</td>\n",
              "      <td>Kanpur</td>\n",
              "      <td>2016-05-21</td>\n",
              "      <td>Mumbai Indians</td>\n",
              "      <td>Gujarat Lions</td>\n",
              "      <td>Gujarat Lions</td>\n",
              "      <td>field</td>\n",
              "      <td>normal</td>\n",
              "      <td>0</td>\n",
              "      <td>Gujarat Lions</td>\n",
              "      <td>0</td>\n",
              "      <td>6</td>\n",
              "      <td>SK Raina</td>\n",
              "      <td>Green Park</td>\n",
              "      <td>AK Chaudhary</td>\n",
              "      <td>CK Nandan</td>\n",
              "      <td>NaN</td>\n",
              "    </tr>\n",
              "    <tr>\n",
              "      <th>630</th>\n",
              "      <td>631</td>\n",
              "      <td>2016</td>\n",
              "      <td>Kolkata</td>\n",
              "      <td>2016-05-22</td>\n",
              "      <td>Kolkata Knight Riders</td>\n",
              "      <td>Sunrisers Hyderabad</td>\n",
              "      <td>Sunrisers Hyderabad</td>\n",
              "      <td>field</td>\n",
              "      <td>normal</td>\n",
              "      <td>0</td>\n",
              "      <td>Kolkata Knight Riders</td>\n",
              "      <td>22</td>\n",
              "      <td>0</td>\n",
              "      <td>YK Pathan</td>\n",
              "      <td>Eden Gardens</td>\n",
              "      <td>KN Ananthapadmanabhan</td>\n",
              "      <td>M Erasmus</td>\n",
              "      <td>NaN</td>\n",
              "    </tr>\n",
              "    <tr>\n",
              "      <th>631</th>\n",
              "      <td>632</td>\n",
              "      <td>2016</td>\n",
              "      <td>Raipur</td>\n",
              "      <td>2016-05-22</td>\n",
              "      <td>Delhi Daredevils</td>\n",
              "      <td>Royal Challengers Bangalore</td>\n",
              "      <td>Royal Challengers Bangalore</td>\n",
              "      <td>field</td>\n",
              "      <td>normal</td>\n",
              "      <td>0</td>\n",
              "      <td>Royal Challengers Bangalore</td>\n",
              "      <td>0</td>\n",
              "      <td>6</td>\n",
              "      <td>V Kohli</td>\n",
              "      <td>Shaheed Veer Narayan Singh International Stadium</td>\n",
              "      <td>A Nand Kishore</td>\n",
              "      <td>BNJ Oxenford</td>\n",
              "      <td>NaN</td>\n",
              "    </tr>\n",
              "    <tr>\n",
              "      <th>632</th>\n",
              "      <td>633</td>\n",
              "      <td>2016</td>\n",
              "      <td>Bangalore</td>\n",
              "      <td>2016-05-24</td>\n",
              "      <td>Gujarat Lions</td>\n",
              "      <td>Royal Challengers Bangalore</td>\n",
              "      <td>Royal Challengers Bangalore</td>\n",
              "      <td>field</td>\n",
              "      <td>normal</td>\n",
              "      <td>0</td>\n",
              "      <td>Royal Challengers Bangalore</td>\n",
              "      <td>0</td>\n",
              "      <td>4</td>\n",
              "      <td>AB de Villiers</td>\n",
              "      <td>M Chinnaswamy Stadium</td>\n",
              "      <td>AK Chaudhary</td>\n",
              "      <td>HDPK Dharmasena</td>\n",
              "      <td>NaN</td>\n",
              "    </tr>\n",
              "    <tr>\n",
              "      <th>633</th>\n",
              "      <td>634</td>\n",
              "      <td>2016</td>\n",
              "      <td>Delhi</td>\n",
              "      <td>2016-05-25</td>\n",
              "      <td>Sunrisers Hyderabad</td>\n",
              "      <td>Kolkata Knight Riders</td>\n",
              "      <td>Kolkata Knight Riders</td>\n",
              "      <td>field</td>\n",
              "      <td>normal</td>\n",
              "      <td>0</td>\n",
              "      <td>Sunrisers Hyderabad</td>\n",
              "      <td>22</td>\n",
              "      <td>0</td>\n",
              "      <td>MC Henriques</td>\n",
              "      <td>Feroz Shah Kotla</td>\n",
              "      <td>M Erasmus</td>\n",
              "      <td>C Shamshuddin</td>\n",
              "      <td>NaN</td>\n",
              "    </tr>\n",
              "    <tr>\n",
              "      <th>634</th>\n",
              "      <td>635</td>\n",
              "      <td>2016</td>\n",
              "      <td>Delhi</td>\n",
              "      <td>2016-05-27</td>\n",
              "      <td>Gujarat Lions</td>\n",
              "      <td>Sunrisers Hyderabad</td>\n",
              "      <td>Sunrisers Hyderabad</td>\n",
              "      <td>field</td>\n",
              "      <td>normal</td>\n",
              "      <td>0</td>\n",
              "      <td>Sunrisers Hyderabad</td>\n",
              "      <td>0</td>\n",
              "      <td>4</td>\n",
              "      <td>DA Warner</td>\n",
              "      <td>Feroz Shah Kotla</td>\n",
              "      <td>M Erasmus</td>\n",
              "      <td>CK Nandan</td>\n",
              "      <td>NaN</td>\n",
              "    </tr>\n",
              "    <tr>\n",
              "      <th>635</th>\n",
              "      <td>636</td>\n",
              "      <td>2016</td>\n",
              "      <td>Bangalore</td>\n",
              "      <td>2016-05-29</td>\n",
              "      <td>Sunrisers Hyderabad</td>\n",
              "      <td>Royal Challengers Bangalore</td>\n",
              "      <td>Sunrisers Hyderabad</td>\n",
              "      <td>bat</td>\n",
              "      <td>normal</td>\n",
              "      <td>0</td>\n",
              "      <td>Sunrisers Hyderabad</td>\n",
              "      <td>8</td>\n",
              "      <td>0</td>\n",
              "      <td>BCJ Cutting</td>\n",
              "      <td>M Chinnaswamy Stadium</td>\n",
              "      <td>HDPK Dharmasena</td>\n",
              "      <td>BNJ Oxenford</td>\n",
              "      <td>NaN</td>\n",
              "    </tr>\n",
              "  </tbody>\n",
              "</table>\n",
              "</div>"
            ],
            "text/plain": [
              "      id  season  ...          umpire2 umpire3\n",
              "626  627    2016  ...        CK Nandan     NaN\n",
              "627  628    2016  ...     BNJ Oxenford     NaN\n",
              "628  629    2016  ...      Nitin Menon     NaN\n",
              "629  630    2016  ...        CK Nandan     NaN\n",
              "630  631    2016  ...        M Erasmus     NaN\n",
              "631  632    2016  ...     BNJ Oxenford     NaN\n",
              "632  633    2016  ...  HDPK Dharmasena     NaN\n",
              "633  634    2016  ...    C Shamshuddin     NaN\n",
              "634  635    2016  ...        CK Nandan     NaN\n",
              "635  636    2016  ...     BNJ Oxenford     NaN\n",
              "\n",
              "[10 rows x 18 columns]"
            ]
          },
          "metadata": {
            "tags": []
          },
          "execution_count": 47
        }
      ]
    },
    {
      "cell_type": "code",
      "metadata": {
        "id": "52VEDn6VOBKa",
        "outputId": "8cff7a25-5c2f-4bf0-99e2-445f9cb3ab39",
        "colab": {
          "base_uri": "https://localhost:8080/"
        }
      },
      "source": [
        "#Check the shape\n",
        "\n",
        "data.shape"
      ],
      "execution_count": 48,
      "outputs": [
        {
          "output_type": "execute_result",
          "data": {
            "text/plain": [
              "(636, 18)"
            ]
          },
          "metadata": {
            "tags": []
          },
          "execution_count": 48
        }
      ]
    },
    {
      "cell_type": "code",
      "metadata": {
        "id": "i967ZlGhOTJV",
        "outputId": "c2b7cdbd-96cc-4965-8cff-b71f22b489ac",
        "colab": {
          "base_uri": "https://localhost:8080/"
        }
      },
      "source": [
        "data.info() #information regarding the dataset"
      ],
      "execution_count": 49,
      "outputs": [
        {
          "output_type": "stream",
          "text": [
            "<class 'pandas.core.frame.DataFrame'>\n",
            "RangeIndex: 636 entries, 0 to 635\n",
            "Data columns (total 18 columns):\n",
            " #   Column           Non-Null Count  Dtype  \n",
            "---  ------           --------------  -----  \n",
            " 0   id               636 non-null    int64  \n",
            " 1   season           636 non-null    int64  \n",
            " 2   city             629 non-null    object \n",
            " 3   date             636 non-null    object \n",
            " 4   team1            636 non-null    object \n",
            " 5   team2            636 non-null    object \n",
            " 6   toss_winner      636 non-null    object \n",
            " 7   toss_decision    636 non-null    object \n",
            " 8   result           636 non-null    object \n",
            " 9   dl_applied       636 non-null    int64  \n",
            " 10  winner           633 non-null    object \n",
            " 11  win_by_runs      636 non-null    int64  \n",
            " 12  win_by_wickets   636 non-null    int64  \n",
            " 13  player_of_match  633 non-null    object \n",
            " 14  venue            636 non-null    object \n",
            " 15  umpire1          635 non-null    object \n",
            " 16  umpire2          635 non-null    object \n",
            " 17  umpire3          0 non-null      float64\n",
            "dtypes: float64(1), int64(5), object(12)\n",
            "memory usage: 89.6+ KB\n"
          ],
          "name": "stdout"
        }
      ]
    },
    {
      "cell_type": "code",
      "metadata": {
        "id": "etaMQukMOeFQ",
        "outputId": "c120e681-cdd2-4f32-e1bb-5ee732c43207",
        "colab": {
          "base_uri": "https://localhost:8080/",
          "height": 295
        }
      },
      "source": [
        "#Description of this dataset\n",
        "\n",
        "data.describe()\n"
      ],
      "execution_count": 50,
      "outputs": [
        {
          "output_type": "execute_result",
          "data": {
            "text/html": [
              "<div>\n",
              "<style scoped>\n",
              "    .dataframe tbody tr th:only-of-type {\n",
              "        vertical-align: middle;\n",
              "    }\n",
              "\n",
              "    .dataframe tbody tr th {\n",
              "        vertical-align: top;\n",
              "    }\n",
              "\n",
              "    .dataframe thead th {\n",
              "        text-align: right;\n",
              "    }\n",
              "</style>\n",
              "<table border=\"1\" class=\"dataframe\">\n",
              "  <thead>\n",
              "    <tr style=\"text-align: right;\">\n",
              "      <th></th>\n",
              "      <th>id</th>\n",
              "      <th>season</th>\n",
              "      <th>dl_applied</th>\n",
              "      <th>win_by_runs</th>\n",
              "      <th>win_by_wickets</th>\n",
              "      <th>umpire3</th>\n",
              "    </tr>\n",
              "  </thead>\n",
              "  <tbody>\n",
              "    <tr>\n",
              "      <th>count</th>\n",
              "      <td>636.000000</td>\n",
              "      <td>636.000000</td>\n",
              "      <td>636.000000</td>\n",
              "      <td>636.000000</td>\n",
              "      <td>636.000000</td>\n",
              "      <td>0.0</td>\n",
              "    </tr>\n",
              "    <tr>\n",
              "      <th>mean</th>\n",
              "      <td>318.500000</td>\n",
              "      <td>2012.490566</td>\n",
              "      <td>0.025157</td>\n",
              "      <td>13.682390</td>\n",
              "      <td>3.372642</td>\n",
              "      <td>NaN</td>\n",
              "    </tr>\n",
              "    <tr>\n",
              "      <th>std</th>\n",
              "      <td>183.741666</td>\n",
              "      <td>2.773026</td>\n",
              "      <td>0.156726</td>\n",
              "      <td>23.908877</td>\n",
              "      <td>3.420338</td>\n",
              "      <td>NaN</td>\n",
              "    </tr>\n",
              "    <tr>\n",
              "      <th>min</th>\n",
              "      <td>1.000000</td>\n",
              "      <td>2008.000000</td>\n",
              "      <td>0.000000</td>\n",
              "      <td>0.000000</td>\n",
              "      <td>0.000000</td>\n",
              "      <td>NaN</td>\n",
              "    </tr>\n",
              "    <tr>\n",
              "      <th>25%</th>\n",
              "      <td>159.750000</td>\n",
              "      <td>2010.000000</td>\n",
              "      <td>0.000000</td>\n",
              "      <td>0.000000</td>\n",
              "      <td>0.000000</td>\n",
              "      <td>NaN</td>\n",
              "    </tr>\n",
              "    <tr>\n",
              "      <th>50%</th>\n",
              "      <td>318.500000</td>\n",
              "      <td>2012.000000</td>\n",
              "      <td>0.000000</td>\n",
              "      <td>0.000000</td>\n",
              "      <td>4.000000</td>\n",
              "      <td>NaN</td>\n",
              "    </tr>\n",
              "    <tr>\n",
              "      <th>75%</th>\n",
              "      <td>477.250000</td>\n",
              "      <td>2015.000000</td>\n",
              "      <td>0.000000</td>\n",
              "      <td>20.000000</td>\n",
              "      <td>7.000000</td>\n",
              "      <td>NaN</td>\n",
              "    </tr>\n",
              "    <tr>\n",
              "      <th>max</th>\n",
              "      <td>636.000000</td>\n",
              "      <td>2017.000000</td>\n",
              "      <td>1.000000</td>\n",
              "      <td>146.000000</td>\n",
              "      <td>10.000000</td>\n",
              "      <td>NaN</td>\n",
              "    </tr>\n",
              "  </tbody>\n",
              "</table>\n",
              "</div>"
            ],
            "text/plain": [
              "               id       season  ...  win_by_wickets  umpire3\n",
              "count  636.000000   636.000000  ...      636.000000      0.0\n",
              "mean   318.500000  2012.490566  ...        3.372642      NaN\n",
              "std    183.741666     2.773026  ...        3.420338      NaN\n",
              "min      1.000000  2008.000000  ...        0.000000      NaN\n",
              "25%    159.750000  2010.000000  ...        0.000000      NaN\n",
              "50%    318.500000  2012.000000  ...        4.000000      NaN\n",
              "75%    477.250000  2015.000000  ...        7.000000      NaN\n",
              "max    636.000000  2017.000000  ...       10.000000      NaN\n",
              "\n",
              "[8 rows x 6 columns]"
            ]
          },
          "metadata": {
            "tags": []
          },
          "execution_count": 50
        }
      ]
    },
    {
      "cell_type": "code",
      "metadata": {
        "id": "co-RVJNHO4pT"
      },
      "source": [
        "#We are using html parser to access data from a webpage and read the content in that web page\n",
        "\n",
        "web = pd.read_html(\"https://en.wikipedia.org/wiki/States_and_union_territories_of_India\")[3]"
      ],
      "execution_count": 70,
      "outputs": []
    },
    {
      "cell_type": "code",
      "metadata": {
        "id": "mp75yn_zQLea",
        "outputId": "00345536-ebac-4bb0-bba0-f8e6ec568d5c",
        "colab": {
          "base_uri": "https://localhost:8080/",
          "height": 338
        }
      },
      "source": [
        "web.head()"
      ],
      "execution_count": 71,
      "outputs": [
        {
          "output_type": "execute_result",
          "data": {
            "text/html": [
              "<div>\n",
              "<style scoped>\n",
              "    .dataframe tbody tr th:only-of-type {\n",
              "        vertical-align: middle;\n",
              "    }\n",
              "\n",
              "    .dataframe tbody tr th {\n",
              "        vertical-align: top;\n",
              "    }\n",
              "\n",
              "    .dataframe thead th {\n",
              "        text-align: right;\n",
              "    }\n",
              "</style>\n",
              "<table border=\"1\" class=\"dataframe\">\n",
              "  <thead>\n",
              "    <tr style=\"text-align: right;\">\n",
              "      <th></th>\n",
              "      <th>State</th>\n",
              "      <th>ISO 3166-2:IN</th>\n",
              "      <th>Vehiclecode</th>\n",
              "      <th>Zone</th>\n",
              "      <th>Capital</th>\n",
              "      <th>Largest city</th>\n",
              "      <th>Statehood</th>\n",
              "      <th>Population(census 2011)[citation needed]</th>\n",
              "      <th>Area(km2)</th>\n",
              "      <th>Officiallanguages[39]</th>\n",
              "      <th>Additional officiallanguages[39]</th>\n",
              "    </tr>\n",
              "  </thead>\n",
              "  <tbody>\n",
              "    <tr>\n",
              "      <th>0</th>\n",
              "      <td>Andhra Pradesh</td>\n",
              "      <td>IN-AP</td>\n",
              "      <td>AP</td>\n",
              "      <td>Southern</td>\n",
              "      <td>Visakhapatnam (Administrative)[40]Amaravati (L...</td>\n",
              "      <td>Visakhapatnam</td>\n",
              "      <td>1 November 1956</td>\n",
              "      <td>49506799</td>\n",
              "      <td>160205</td>\n",
              "      <td>Telugu</td>\n",
              "      <td>—</td>\n",
              "    </tr>\n",
              "    <tr>\n",
              "      <th>1</th>\n",
              "      <td>Arunachal Pradesh</td>\n",
              "      <td>IN-AR</td>\n",
              "      <td>AR</td>\n",
              "      <td>North-Eastern</td>\n",
              "      <td>Itanagar</td>\n",
              "      <td>Itanagar</td>\n",
              "      <td>20 February 1987</td>\n",
              "      <td>1383727</td>\n",
              "      <td>83743</td>\n",
              "      <td>English</td>\n",
              "      <td>—</td>\n",
              "    </tr>\n",
              "    <tr>\n",
              "      <th>2</th>\n",
              "      <td>Assam</td>\n",
              "      <td>IN-AS</td>\n",
              "      <td>AS</td>\n",
              "      <td>North-Eastern</td>\n",
              "      <td>Dispur</td>\n",
              "      <td>Guwahati</td>\n",
              "      <td>26 January 1950</td>\n",
              "      <td>31205576</td>\n",
              "      <td>78550</td>\n",
              "      <td>Assamese</td>\n",
              "      <td>Bengali, Bodo</td>\n",
              "    </tr>\n",
              "    <tr>\n",
              "      <th>3</th>\n",
              "      <td>Bihar</td>\n",
              "      <td>IN-BR</td>\n",
              "      <td>BR</td>\n",
              "      <td>Eastern</td>\n",
              "      <td>Patna</td>\n",
              "      <td>Patna</td>\n",
              "      <td>26 January 1950</td>\n",
              "      <td>104099452</td>\n",
              "      <td>94163</td>\n",
              "      <td>Hindi</td>\n",
              "      <td>Urdu</td>\n",
              "    </tr>\n",
              "    <tr>\n",
              "      <th>4</th>\n",
              "      <td>Chhattisgarh</td>\n",
              "      <td>IN-CT</td>\n",
              "      <td>CG</td>\n",
              "      <td>Central</td>\n",
              "      <td>Nava Raipur</td>\n",
              "      <td>Raipur</td>\n",
              "      <td>1 November 2000</td>\n",
              "      <td>25545198</td>\n",
              "      <td>135194</td>\n",
              "      <td>Hindi</td>\n",
              "      <td>Chhattisgarhi</td>\n",
              "    </tr>\n",
              "  </tbody>\n",
              "</table>\n",
              "</div>"
            ],
            "text/plain": [
              "               State  ... Additional officiallanguages[39]\n",
              "0     Andhra Pradesh  ...                                —\n",
              "1  Arunachal Pradesh  ...                                —\n",
              "2              Assam  ...                    Bengali, Bodo\n",
              "3              Bihar  ...                             Urdu\n",
              "4       Chhattisgarh  ...                    Chhattisgarhi\n",
              "\n",
              "[5 rows x 11 columns]"
            ]
          },
          "metadata": {
            "tags": []
          },
          "execution_count": 71
        }
      ]
    },
    {
      "cell_type": "code",
      "metadata": {
        "id": "evNwRdNZQOJ_"
      },
      "source": [
        "excel = pd.read_excel(\"/content/ex1.xlsx\")"
      ],
      "execution_count": 65,
      "outputs": []
    },
    {
      "cell_type": "code",
      "metadata": {
        "id": "UkRy3tjWRJEj",
        "outputId": "99d30488-85a2-4f7a-966c-c7ddc69bab7c",
        "colab": {
          "base_uri": "https://localhost:8080/",
          "height": 1000
        }
      },
      "source": [
        "web"
      ],
      "execution_count": 66,
      "outputs": [
        {
          "output_type": "execute_result",
          "data": {
            "text/html": [
              "<div>\n",
              "<style scoped>\n",
              "    .dataframe tbody tr th:only-of-type {\n",
              "        vertical-align: middle;\n",
              "    }\n",
              "\n",
              "    .dataframe tbody tr th {\n",
              "        vertical-align: top;\n",
              "    }\n",
              "\n",
              "    .dataframe thead th {\n",
              "        text-align: right;\n",
              "    }\n",
              "</style>\n",
              "<table border=\"1\" class=\"dataframe\">\n",
              "  <thead>\n",
              "    <tr style=\"text-align: right;\">\n",
              "      <th></th>\n",
              "      <th>State</th>\n",
              "      <th>ISO 3166-2:IN</th>\n",
              "      <th>Vehiclecode</th>\n",
              "      <th>Zone</th>\n",
              "      <th>Capital</th>\n",
              "      <th>Largest city</th>\n",
              "      <th>Statehood</th>\n",
              "      <th>Population(census 2011)[citation needed]</th>\n",
              "      <th>Area(km2)</th>\n",
              "      <th>Officiallanguages[39]</th>\n",
              "      <th>Additional officiallanguages[39]</th>\n",
              "    </tr>\n",
              "  </thead>\n",
              "  <tbody>\n",
              "    <tr>\n",
              "      <th>0</th>\n",
              "      <td>Andhra Pradesh</td>\n",
              "      <td>IN-AP</td>\n",
              "      <td>AP</td>\n",
              "      <td>Southern</td>\n",
              "      <td>Visakhapatnam (Administrative)[40]Amaravati (L...</td>\n",
              "      <td>Visakhapatnam</td>\n",
              "      <td>1 November 1956</td>\n",
              "      <td>49506799</td>\n",
              "      <td>160205</td>\n",
              "      <td>Telugu</td>\n",
              "      <td>—</td>\n",
              "    </tr>\n",
              "    <tr>\n",
              "      <th>1</th>\n",
              "      <td>Arunachal Pradesh</td>\n",
              "      <td>IN-AR</td>\n",
              "      <td>AR</td>\n",
              "      <td>North-Eastern</td>\n",
              "      <td>Itanagar</td>\n",
              "      <td>Itanagar</td>\n",
              "      <td>20 February 1987</td>\n",
              "      <td>1383727</td>\n",
              "      <td>83743</td>\n",
              "      <td>English</td>\n",
              "      <td>—</td>\n",
              "    </tr>\n",
              "    <tr>\n",
              "      <th>2</th>\n",
              "      <td>Assam</td>\n",
              "      <td>IN-AS</td>\n",
              "      <td>AS</td>\n",
              "      <td>North-Eastern</td>\n",
              "      <td>Dispur</td>\n",
              "      <td>Guwahati</td>\n",
              "      <td>26 January 1950</td>\n",
              "      <td>31205576</td>\n",
              "      <td>78550</td>\n",
              "      <td>Assamese</td>\n",
              "      <td>Bengali, Bodo</td>\n",
              "    </tr>\n",
              "    <tr>\n",
              "      <th>3</th>\n",
              "      <td>Bihar</td>\n",
              "      <td>IN-BR</td>\n",
              "      <td>BR</td>\n",
              "      <td>Eastern</td>\n",
              "      <td>Patna</td>\n",
              "      <td>Patna</td>\n",
              "      <td>26 January 1950</td>\n",
              "      <td>104099452</td>\n",
              "      <td>94163</td>\n",
              "      <td>Hindi</td>\n",
              "      <td>Urdu</td>\n",
              "    </tr>\n",
              "    <tr>\n",
              "      <th>4</th>\n",
              "      <td>Chhattisgarh</td>\n",
              "      <td>IN-CT</td>\n",
              "      <td>CG</td>\n",
              "      <td>Central</td>\n",
              "      <td>Nava Raipur</td>\n",
              "      <td>Raipur</td>\n",
              "      <td>1 November 2000</td>\n",
              "      <td>25545198</td>\n",
              "      <td>135194</td>\n",
              "      <td>Hindi</td>\n",
              "      <td>Chhattisgarhi</td>\n",
              "    </tr>\n",
              "    <tr>\n",
              "      <th>5</th>\n",
              "      <td>Goa</td>\n",
              "      <td>IN-GA</td>\n",
              "      <td>GA</td>\n",
              "      <td>Western</td>\n",
              "      <td>Panaji</td>\n",
              "      <td>Vasco da Gama</td>\n",
              "      <td>30 May 1987</td>\n",
              "      <td>1458545</td>\n",
              "      <td>3702</td>\n",
              "      <td>Konkani</td>\n",
              "      <td>Marathi</td>\n",
              "    </tr>\n",
              "    <tr>\n",
              "      <th>6</th>\n",
              "      <td>Gujarat</td>\n",
              "      <td>IN-GJ</td>\n",
              "      <td>GJ</td>\n",
              "      <td>Western</td>\n",
              "      <td>Gandhinagar</td>\n",
              "      <td>Ahmedabad</td>\n",
              "      <td>1 May 1960</td>\n",
              "      <td>60439692</td>\n",
              "      <td>196024</td>\n",
              "      <td>Gujarati</td>\n",
              "      <td>—</td>\n",
              "    </tr>\n",
              "    <tr>\n",
              "      <th>7</th>\n",
              "      <td>Haryana</td>\n",
              "      <td>IN-HR</td>\n",
              "      <td>HR</td>\n",
              "      <td>Northern</td>\n",
              "      <td>Chandigarh</td>\n",
              "      <td>Faridabad</td>\n",
              "      <td>1 November 1966</td>\n",
              "      <td>25351462</td>\n",
              "      <td>44212</td>\n",
              "      <td>Hindi</td>\n",
              "      <td>Punjabi[41][42]</td>\n",
              "    </tr>\n",
              "    <tr>\n",
              "      <th>8</th>\n",
              "      <td>Himachal Pradesh</td>\n",
              "      <td>IN-HP</td>\n",
              "      <td>HP</td>\n",
              "      <td>Northern</td>\n",
              "      <td>Shimla (Summer)Dharamshala (Winter)[43]</td>\n",
              "      <td>Shimla</td>\n",
              "      <td>25 January 1971</td>\n",
              "      <td>6864602</td>\n",
              "      <td>55673</td>\n",
              "      <td>Hindi</td>\n",
              "      <td>Sanskrit[44]</td>\n",
              "    </tr>\n",
              "    <tr>\n",
              "      <th>9</th>\n",
              "      <td>Jharkhand</td>\n",
              "      <td>IN-JH</td>\n",
              "      <td>JH</td>\n",
              "      <td>Eastern</td>\n",
              "      <td>Ranchi</td>\n",
              "      <td>Jamshedpur</td>\n",
              "      <td>15 November 2000</td>\n",
              "      <td>32988134</td>\n",
              "      <td>74677</td>\n",
              "      <td>Hindi</td>\n",
              "      <td>Angika, Bengali, Bhojpuri, Ho, Kharia, Khortha...</td>\n",
              "    </tr>\n",
              "    <tr>\n",
              "      <th>10</th>\n",
              "      <td>Karnataka</td>\n",
              "      <td>IN-KA</td>\n",
              "      <td>KA</td>\n",
              "      <td>Southern</td>\n",
              "      <td>Bengaluru</td>\n",
              "      <td>Bengaluru</td>\n",
              "      <td>1 November 1956</td>\n",
              "      <td>61095297</td>\n",
              "      <td>191791</td>\n",
              "      <td>Kannada</td>\n",
              "      <td>—</td>\n",
              "    </tr>\n",
              "    <tr>\n",
              "      <th>11</th>\n",
              "      <td>Kerala</td>\n",
              "      <td>IN-KL</td>\n",
              "      <td>KL</td>\n",
              "      <td>Southern</td>\n",
              "      <td>Thiruvananthapuram</td>\n",
              "      <td>Thiruvananthapuram</td>\n",
              "      <td>1 November 1956</td>\n",
              "      <td>33406061</td>\n",
              "      <td>38863</td>\n",
              "      <td>Malayalam</td>\n",
              "      <td>English[46]</td>\n",
              "    </tr>\n",
              "    <tr>\n",
              "      <th>12</th>\n",
              "      <td>Madhya Pradesh</td>\n",
              "      <td>IN-MP</td>\n",
              "      <td>MP</td>\n",
              "      <td>Central</td>\n",
              "      <td>Bhopal</td>\n",
              "      <td>Indore</td>\n",
              "      <td>26 January 1950</td>\n",
              "      <td>72626809</td>\n",
              "      <td>308252</td>\n",
              "      <td>Hindi</td>\n",
              "      <td>—</td>\n",
              "    </tr>\n",
              "    <tr>\n",
              "      <th>13</th>\n",
              "      <td>Maharashtra</td>\n",
              "      <td>IN-MH</td>\n",
              "      <td>MH</td>\n",
              "      <td>Western</td>\n",
              "      <td>Mumbai (Summer)Nagpur (Winter)[47]</td>\n",
              "      <td>Mumbai</td>\n",
              "      <td>1 May 1960</td>\n",
              "      <td>112374333</td>\n",
              "      <td>307713</td>\n",
              "      <td>Marathi</td>\n",
              "      <td>—</td>\n",
              "    </tr>\n",
              "    <tr>\n",
              "      <th>14</th>\n",
              "      <td>Manipur</td>\n",
              "      <td>IN-MN</td>\n",
              "      <td>MN</td>\n",
              "      <td>North-Eastern</td>\n",
              "      <td>Imphal</td>\n",
              "      <td>Imphal</td>\n",
              "      <td>21 January 1972</td>\n",
              "      <td>2855794</td>\n",
              "      <td>22347</td>\n",
              "      <td>Meitei</td>\n",
              "      <td>English</td>\n",
              "    </tr>\n",
              "    <tr>\n",
              "      <th>15</th>\n",
              "      <td>Meghalaya</td>\n",
              "      <td>IN-ML</td>\n",
              "      <td>ML</td>\n",
              "      <td>North-Eastern</td>\n",
              "      <td>Shillong</td>\n",
              "      <td>Shillong</td>\n",
              "      <td>21 January 1972</td>\n",
              "      <td>2966889</td>\n",
              "      <td>22720</td>\n",
              "      <td>English</td>\n",
              "      <td>Khasi[a]</td>\n",
              "    </tr>\n",
              "    <tr>\n",
              "      <th>16</th>\n",
              "      <td>Mizoram</td>\n",
              "      <td>IN-MZ</td>\n",
              "      <td>MZ</td>\n",
              "      <td>North-Eastern</td>\n",
              "      <td>Aizawl</td>\n",
              "      <td>Aizawl</td>\n",
              "      <td>20 February 1987</td>\n",
              "      <td>1097206</td>\n",
              "      <td>21081</td>\n",
              "      <td>English, Hindi, Mizo</td>\n",
              "      <td>—</td>\n",
              "    </tr>\n",
              "    <tr>\n",
              "      <th>17</th>\n",
              "      <td>Nagaland</td>\n",
              "      <td>IN-NL</td>\n",
              "      <td>NL</td>\n",
              "      <td>North-Eastern</td>\n",
              "      <td>Kohima</td>\n",
              "      <td>Dimapur</td>\n",
              "      <td>1 December 1963</td>\n",
              "      <td>1978502</td>\n",
              "      <td>16579</td>\n",
              "      <td>English</td>\n",
              "      <td>—</td>\n",
              "    </tr>\n",
              "    <tr>\n",
              "      <th>18</th>\n",
              "      <td>Odisha</td>\n",
              "      <td>IN-OR</td>\n",
              "      <td>OD</td>\n",
              "      <td>Eastern</td>\n",
              "      <td>Bhubaneswar</td>\n",
              "      <td>Bhubaneswar</td>\n",
              "      <td>26 January 1950</td>\n",
              "      <td>41974218</td>\n",
              "      <td>155820</td>\n",
              "      <td>Odia</td>\n",
              "      <td>—</td>\n",
              "    </tr>\n",
              "    <tr>\n",
              "      <th>19</th>\n",
              "      <td>Punjab</td>\n",
              "      <td>IN-PB</td>\n",
              "      <td>PB</td>\n",
              "      <td>Northern</td>\n",
              "      <td>Chandigarh</td>\n",
              "      <td>Ludhiana</td>\n",
              "      <td>1 November 1966</td>\n",
              "      <td>27743338</td>\n",
              "      <td>50362</td>\n",
              "      <td>Punjabi</td>\n",
              "      <td>—</td>\n",
              "    </tr>\n",
              "    <tr>\n",
              "      <th>20</th>\n",
              "      <td>Rajasthan</td>\n",
              "      <td>IN-RJ</td>\n",
              "      <td>RJ</td>\n",
              "      <td>Northern</td>\n",
              "      <td>Jaipur</td>\n",
              "      <td>Jaipur</td>\n",
              "      <td>26 January 1950</td>\n",
              "      <td>68548437</td>\n",
              "      <td>342269</td>\n",
              "      <td>Hindi</td>\n",
              "      <td>English</td>\n",
              "    </tr>\n",
              "    <tr>\n",
              "      <th>21</th>\n",
              "      <td>Sikkim</td>\n",
              "      <td>IN-SK</td>\n",
              "      <td>SK</td>\n",
              "      <td>North-Eastern</td>\n",
              "      <td>Gangtok</td>\n",
              "      <td>Gangtok</td>\n",
              "      <td>16 May 1975</td>\n",
              "      <td>610577</td>\n",
              "      <td>7096</td>\n",
              "      <td>English, Nepali</td>\n",
              "      <td>Bhutia, Gurung, Lepcha, Limbu, Manggar, Mukhia...</td>\n",
              "    </tr>\n",
              "    <tr>\n",
              "      <th>22</th>\n",
              "      <td>Tamil Nadu</td>\n",
              "      <td>IN-TN</td>\n",
              "      <td>TN</td>\n",
              "      <td>Southern</td>\n",
              "      <td>Chennai</td>\n",
              "      <td>Chennai</td>\n",
              "      <td>1 November 1956</td>\n",
              "      <td>72147030</td>\n",
              "      <td>130058</td>\n",
              "      <td>Tamil</td>\n",
              "      <td>English</td>\n",
              "    </tr>\n",
              "    <tr>\n",
              "      <th>23</th>\n",
              "      <td>Telangana</td>\n",
              "      <td>IN-TG</td>\n",
              "      <td>TS</td>\n",
              "      <td>Southern</td>\n",
              "      <td>Hyderabad[b]</td>\n",
              "      <td>Hyderabad[b]</td>\n",
              "      <td>2 June 2014</td>\n",
              "      <td>35,193,978[48]</td>\n",
              "      <td>114,840[48]</td>\n",
              "      <td>Telugu</td>\n",
              "      <td>Urdu[49]</td>\n",
              "    </tr>\n",
              "    <tr>\n",
              "      <th>24</th>\n",
              "      <td>Tripura</td>\n",
              "      <td>IN-TR</td>\n",
              "      <td>TR</td>\n",
              "      <td>North-Eastern</td>\n",
              "      <td>Agartala</td>\n",
              "      <td>Agartala</td>\n",
              "      <td>21 January 1972</td>\n",
              "      <td>3673917</td>\n",
              "      <td>10492</td>\n",
              "      <td>Bengali, English, Kokborok</td>\n",
              "      <td>—</td>\n",
              "    </tr>\n",
              "    <tr>\n",
              "      <th>25</th>\n",
              "      <td>Uttar Pradesh</td>\n",
              "      <td>IN-UP</td>\n",
              "      <td>UP</td>\n",
              "      <td>Central</td>\n",
              "      <td>Lucknow</td>\n",
              "      <td>Kanpur</td>\n",
              "      <td>26 January 1950</td>\n",
              "      <td>199812341</td>\n",
              "      <td>243286</td>\n",
              "      <td>Hindi</td>\n",
              "      <td>Urdu</td>\n",
              "    </tr>\n",
              "    <tr>\n",
              "      <th>26</th>\n",
              "      <td>Uttarakhand</td>\n",
              "      <td>IN-UT</td>\n",
              "      <td>UK</td>\n",
              "      <td>Central</td>\n",
              "      <td>Gairsain (Summer)Dehradun (Winter)[50]</td>\n",
              "      <td>Dehradun</td>\n",
              "      <td>9 November 2000</td>\n",
              "      <td>10086292</td>\n",
              "      <td>53483</td>\n",
              "      <td>Hindi</td>\n",
              "      <td>Sanskrit[51]</td>\n",
              "    </tr>\n",
              "    <tr>\n",
              "      <th>27</th>\n",
              "      <td>West Bengal</td>\n",
              "      <td>IN-WB</td>\n",
              "      <td>WB</td>\n",
              "      <td>Eastern</td>\n",
              "      <td>Kolkata</td>\n",
              "      <td>Kolkata</td>\n",
              "      <td>26 January 1950</td>\n",
              "      <td>91276115</td>\n",
              "      <td>88752</td>\n",
              "      <td>Bengali, Nepali[c]</td>\n",
              "      <td>Hindi, Odia, Telugu, Punjabi, Santali, Urdu</td>\n",
              "    </tr>\n",
              "  </tbody>\n",
              "</table>\n",
              "</div>"
            ],
            "text/plain": [
              "                State  ...                   Additional officiallanguages[39]\n",
              "0      Andhra Pradesh  ...                                                  —\n",
              "1   Arunachal Pradesh  ...                                                  —\n",
              "2               Assam  ...                                      Bengali, Bodo\n",
              "3               Bihar  ...                                               Urdu\n",
              "4        Chhattisgarh  ...                                      Chhattisgarhi\n",
              "5                 Goa  ...                                            Marathi\n",
              "6             Gujarat  ...                                                  —\n",
              "7             Haryana  ...                                    Punjabi[41][42]\n",
              "8    Himachal Pradesh  ...                                       Sanskrit[44]\n",
              "9           Jharkhand  ...  Angika, Bengali, Bhojpuri, Ho, Kharia, Khortha...\n",
              "10          Karnataka  ...                                                  —\n",
              "11             Kerala  ...                                        English[46]\n",
              "12     Madhya Pradesh  ...                                                  —\n",
              "13        Maharashtra  ...                                                  —\n",
              "14            Manipur  ...                                            English\n",
              "15          Meghalaya  ...                                           Khasi[a]\n",
              "16            Mizoram  ...                                                  —\n",
              "17           Nagaland  ...                                                  —\n",
              "18             Odisha  ...                                                  —\n",
              "19             Punjab  ...                                                  —\n",
              "20          Rajasthan  ...                                            English\n",
              "21             Sikkim  ...  Bhutia, Gurung, Lepcha, Limbu, Manggar, Mukhia...\n",
              "22         Tamil Nadu  ...                                            English\n",
              "23          Telangana  ...                                           Urdu[49]\n",
              "24            Tripura  ...                                                  —\n",
              "25      Uttar Pradesh  ...                                               Urdu\n",
              "26        Uttarakhand  ...                                       Sanskrit[51]\n",
              "27        West Bengal  ...        Hindi, Odia, Telugu, Punjabi, Santali, Urdu\n",
              "\n",
              "[28 rows x 11 columns]"
            ]
          },
          "metadata": {
            "tags": []
          },
          "execution_count": 66
        }
      ]
    },
    {
      "cell_type": "code",
      "metadata": {
        "id": "nDxgpVntRMqP",
        "outputId": "2419bb23-62a6-4459-d839-b6f5e45c7e25",
        "colab": {
          "base_uri": "https://localhost:8080/",
          "height": 142
        }
      },
      "source": [
        "excel.head()"
      ],
      "execution_count": 67,
      "outputs": [
        {
          "output_type": "execute_result",
          "data": {
            "text/html": [
              "<div>\n",
              "<style scoped>\n",
              "    .dataframe tbody tr th:only-of-type {\n",
              "        vertical-align: middle;\n",
              "    }\n",
              "\n",
              "    .dataframe tbody tr th {\n",
              "        vertical-align: top;\n",
              "    }\n",
              "\n",
              "    .dataframe thead th {\n",
              "        text-align: right;\n",
              "    }\n",
              "</style>\n",
              "<table border=\"1\" class=\"dataframe\">\n",
              "  <thead>\n",
              "    <tr style=\"text-align: right;\">\n",
              "      <th></th>\n",
              "      <th>Unnamed: 0</th>\n",
              "      <th>a</th>\n",
              "      <th>b</th>\n",
              "      <th>c</th>\n",
              "      <th>d</th>\n",
              "      <th>message</th>\n",
              "    </tr>\n",
              "  </thead>\n",
              "  <tbody>\n",
              "    <tr>\n",
              "      <th>0</th>\n",
              "      <td>0</td>\n",
              "      <td>1</td>\n",
              "      <td>2</td>\n",
              "      <td>3</td>\n",
              "      <td>4</td>\n",
              "      <td>hello</td>\n",
              "    </tr>\n",
              "    <tr>\n",
              "      <th>1</th>\n",
              "      <td>1</td>\n",
              "      <td>5</td>\n",
              "      <td>6</td>\n",
              "      <td>7</td>\n",
              "      <td>8</td>\n",
              "      <td>world</td>\n",
              "    </tr>\n",
              "    <tr>\n",
              "      <th>2</th>\n",
              "      <td>2</td>\n",
              "      <td>9</td>\n",
              "      <td>10</td>\n",
              "      <td>11</td>\n",
              "      <td>12</td>\n",
              "      <td>foo</td>\n",
              "    </tr>\n",
              "  </tbody>\n",
              "</table>\n",
              "</div>"
            ],
            "text/plain": [
              "   Unnamed: 0  a   b   c   d message\n",
              "0           0  1   2   3   4   hello\n",
              "1           1  5   6   7   8   world\n",
              "2           2  9  10  11  12     foo"
            ]
          },
          "metadata": {
            "tags": []
          },
          "execution_count": 67
        }
      ]
    },
    {
      "cell_type": "code",
      "metadata": {
        "id": "0QZKsoVhRSZB"
      },
      "source": [
        ""
      ],
      "execution_count": null,
      "outputs": []
    }
  ]
}