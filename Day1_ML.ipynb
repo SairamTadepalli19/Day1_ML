{
  "nbformat": 4,
  "nbformat_minor": 0,
  "metadata": {
    "colab": {
      "name": "Day1_ML.ipynb",
      "provenance": [],
      "collapsed_sections": [],
      "authorship_tag": "ABX9TyN3Tq4khtXNc45dUAE/e4wp",
      "include_colab_link": true
    },
    "kernelspec": {
      "name": "python3",
      "display_name": "Python 3"
    },
    "language_info": {
      "name": "python"
    }
  },
  "cells": [
    {
      "cell_type": "markdown",
      "metadata": {
        "id": "view-in-github",
        "colab_type": "text"
      },
      "source": [
        "<a href=\"https://colab.research.google.com/github/SairamTadepalli19/Day1_ML/blob/main/Day1_ML.ipynb\" target=\"_parent\"><img src=\"https://colab.research.google.com/assets/colab-badge.svg\" alt=\"Open In Colab\"/></a>"
      ]
    },
    {
      "cell_type": "markdown",
      "metadata": {
        "id": "9Xt8Zd0mKGx-"
      },
      "source": [
        " # **Numpy**"
      ]
    },
    {
      "cell_type": "code",
      "metadata": {
        "colab": {
          "base_uri": "https://localhost:8080/"
        },
        "id": "90HbTDe5Jw39",
        "outputId": "020fa681-5f47-4891-8943-a8727f0b209d"
      },
      "source": [
        "# Is for mathematical operations\n",
        "\n",
        "import numpy as np\n",
        "\n",
        "a = [1,2,3,4,5]\n",
        "\n",
        "arr1 = np.array(a)\n",
        "\n",
        "b = [[1,2,3,4], [5,6,7,8]]\n",
        "\n",
        "arr2 = np.array(b)\n",
        "\n",
        "print(arr1)\n",
        "print(arr2)\n",
        "\n"
      ],
      "execution_count": 1,
      "outputs": [
        {
          "output_type": "stream",
          "text": [
            "[1 2 3 4 5]\n",
            "[[1 2 3 4]\n",
            " [5 6 7 8]]\n"
          ],
          "name": "stdout"
        }
      ]
    },
    {
      "cell_type": "code",
      "metadata": {
        "colab": {
          "base_uri": "https://localhost:8080/"
        },
        "id": "6ubntjE3NjCR",
        "outputId": "78cfd200-9367-424f-8133-e3c5d23fa8be"
      },
      "source": [
        "print(type(a),\n",
        "type(arr1),\n",
        "type(b),\n",
        "type(arr2),)"
      ],
      "execution_count": 2,
      "outputs": [
        {
          "output_type": "stream",
          "text": [
            "<class 'list'> <class 'numpy.ndarray'> <class 'list'> <class 'numpy.ndarray'>\n"
          ],
          "name": "stdout"
        }
      ]
    },
    {
      "cell_type": "code",
      "metadata": {
        "colab": {
          "base_uri": "https://localhost:8080/"
        },
        "id": "lefvhtACN4Ef",
        "outputId": "16649eff-8426-46de-c374-b41fca56c58a"
      },
      "source": [
        "import sys\n",
        "\n",
        "s = range(1000)\n",
        "\n",
        "print(\"Size of each elements in the list in bytes\", sys.getsizeof(s))\n",
        "\n",
        "print(\"Complete list size in bytes\", sys.getsizeof(s) * len(s))"
      ],
      "execution_count": 4,
      "outputs": [
        {
          "output_type": "stream",
          "text": [
            "Size of each elements in the list in bytes 48\n",
            "Complete list size in bytes 48000\n"
          ],
          "name": "stdout"
        }
      ]
    },
    {
      "cell_type": "code",
      "metadata": {
        "colab": {
          "base_uri": "https://localhost:8080/"
        },
        "id": "hARA-X2qOS8J",
        "outputId": "82badad7-a9f1-48c0-fb90-48222ae62542"
      },
      "source": [
        "#We are checking comparison between numpy size and nomral size of \"sys\" package\n",
        "\n",
        "import numpy as np\n",
        "\n",
        "s = np.arange(1000)\n",
        "\n",
        "print(\"Size of each elements in the list by bytes\", s.itemsize)\n",
        "\n",
        "print(\"Complete list size in bytes\", s.size * s.itemsize)\n"
      ],
      "execution_count": 6,
      "outputs": [
        {
          "output_type": "stream",
          "text": [
            "Size of each elements in the list by bytes 8\n",
            "Complete list size in bytes 8000\n"
          ],
          "name": "stdout"
        }
      ]
    },
    {
      "cell_type": "code",
      "metadata": {
        "colab": {
          "base_uri": "https://localhost:8080/"
        },
        "id": "3Wrp7OKWPbdb",
        "outputId": "851b2afc-a85c-4486-cb97-22f22adcc375"
      },
      "source": [
        "#Import time library and make execution time taking by the system\n",
        "\n",
        "import time\n",
        "\n",
        "a = range(1000) # [0 ... 999]\n",
        "b = range(1000) # [0 ... 999]\n",
        "\n",
        "start = time.time()\n",
        "\n",
        "ab = [(a * b) for a,b in zip(a,b)] #List Comprehension\n",
        "\n",
        "# Creating a concised form of complete list and for loop or any other conditional statements\n",
        "\n",
        "end = time.time()\n",
        "\n",
        "print(\"Total time taken\", end - start)\n",
        "\n"
      ],
      "execution_count": 7,
      "outputs": [
        {
          "output_type": "stream",
          "text": [
            "Total time taken 0.00019979476928710938\n"
          ],
          "name": "stdout"
        }
      ]
    },
    {
      "cell_type": "code",
      "metadata": {
        "colab": {
          "base_uri": "https://localhost:8080/"
        },
        "id": "mT_pMnDTQztJ",
        "outputId": "101427e9-c3d8-4ad2-acc4-c5367dd06c0b"
      },
      "source": [
        "import numpy\n",
        "import time\n",
        "arr1 = np.arange(1000)\n",
        "arr2 = np.arange(1000)\n",
        "\n",
        "start = time.time()\n",
        "\n",
        "arr_mul = arr1 * arr2\n",
        "\n",
        "end = time.time()\n",
        "\n",
        "print(\"Total time taken\", end - start)"
      ],
      "execution_count": 8,
      "outputs": [
        {
          "output_type": "stream",
          "text": [
            "Total time taken 0.0007355213165283203\n"
          ],
          "name": "stdout"
        }
      ]
    },
    {
      "cell_type": "code",
      "metadata": {
        "colab": {
          "base_uri": "https://localhost:8080/"
        },
        "id": "kp6ghVNLSE8k",
        "outputId": "cc3816b4-fcf2-42b5-c7b6-e04c57fe6f06"
      },
      "source": [
        "lst1 = [1,2,3,4]\n",
        "\n",
        "arr = np.array(lst1)\n",
        "\n",
        "print(arr)"
      ],
      "execution_count": 9,
      "outputs": [
        {
          "output_type": "stream",
          "text": [
            "[1 2 3 4]\n"
          ],
          "name": "stdout"
        }
      ]
    },
    {
      "cell_type": "code",
      "metadata": {
        "colab": {
          "base_uri": "https://localhost:8080/",
          "height": 162
        },
        "id": "RvsndQS8SXsI",
        "outputId": "cbddab3d-c411-46c2-dab3-4b77342123bc"
      },
      "source": [
        "print(lst1 + 1)"
      ],
      "execution_count": 10,
      "outputs": [
        {
          "output_type": "error",
          "ename": "TypeError",
          "evalue": "ignored",
          "traceback": [
            "\u001b[0;31m---------------------------------------------------------------------------\u001b[0m",
            "\u001b[0;31mTypeError\u001b[0m                                 Traceback (most recent call last)",
            "\u001b[0;32m<ipython-input-10-c98f5e3d7b11>\u001b[0m in \u001b[0;36m<module>\u001b[0;34m()\u001b[0m\n\u001b[0;32m----> 1\u001b[0;31m \u001b[0mprint\u001b[0m\u001b[0;34m(\u001b[0m\u001b[0mlst1\u001b[0m \u001b[0;34m+\u001b[0m \u001b[0;36m1\u001b[0m\u001b[0;34m)\u001b[0m\u001b[0;34m\u001b[0m\u001b[0;34m\u001b[0m\u001b[0m\n\u001b[0m",
            "\u001b[0;31mTypeError\u001b[0m: can only concatenate list (not \"int\") to list"
          ]
        }
      ]
    },
    {
      "cell_type": "code",
      "metadata": {
        "colab": {
          "base_uri": "https://localhost:8080/"
        },
        "id": "NcA-JRNySezO",
        "outputId": "05d4443f-ecf8-4e7e-807f-39a48aeaf2ea"
      },
      "source": [
        "print(arr + 1)"
      ],
      "execution_count": 11,
      "outputs": [
        {
          "output_type": "stream",
          "text": [
            "[2 3 4 5]\n"
          ],
          "name": "stdout"
        }
      ]
    },
    {
      "cell_type": "code",
      "metadata": {
        "id": "1xJqvNhZSkX8"
      },
      "source": [
        ""
      ],
      "execution_count": null,
      "outputs": []
    }
  ]
}